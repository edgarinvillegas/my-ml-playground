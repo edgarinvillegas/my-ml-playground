{
 "cells": [
  {
   "cell_type": "markdown",
   "metadata": {
    "pycharm": {
     "name": "#%% md\n"
    }
   },
   "source": [
    "# Multi-Layer Perceptron, MNIST\n",
    "---\n",
    "In this notebook, we will train an MLP to classify images from the [MNIST database](http://yann.lecun.com/exdb/mnist/) hand-written digit database.\n",
    "\n",
    "The process will be broken down into the following steps:\n",
    ">1. Load and visualize the data\n",
    "2. Define a neural network\n",
    "3. Train the model\n",
    "4. Evaluate the performance of our trained model on a test dataset!\n",
    "\n",
    "Before we begin, we have to import the necessary libraries for working with data and PyTorch."
   ]
  },
  {
   "cell_type": "code",
   "execution_count": 8,
   "metadata": {
    "pycharm": {
     "name": "#%%\n"
    }
   },
   "outputs": [],
   "source": [
    "# import libraries\n",
    "import torch\n",
    "import numpy as np"
   ]
  },
  {
   "cell_type": "markdown",
   "metadata": {
    "pycharm": {
     "name": "#%% md\n"
    }
   },
   "source": [
    "---\n",
    "## Load and Visualize the [Data](http://pytorch.org/docs/stable/torchvision/datasets.html)\n",
    "\n",
    "Downloading may take a few moments, and you should see your progress as the data is loading. You may also choose to change the `batch_size` if you want to load more data at a time.\n",
    "\n",
    "This cell will create DataLoaders for each of our datasets."
   ]
  },
  {
   "cell_type": "code",
   "execution_count": 2,
   "metadata": {
    "pycharm": {
     "name": "#%%\n"
    }
   },
   "outputs": [],
   "source": [
    "# The MNIST datasets are hosted on yann.lecun.com that has moved under CloudFlare protection\n",
    "# Run this script to enable the datasets download\n",
    "# Reference: https://github.com/pytorch/vision/issues/1938\n",
    "\n",
    "from six.moves import urllib\n",
    "opener = urllib.request.build_opener()\n",
    "opener.addheaders = [('User-agent', 'Mozilla/5.0')]\n",
    "urllib.request.install_opener(opener)"
   ]
  },
  {
   "cell_type": "code",
   "execution_count": 18,
   "metadata": {
    "pycharm": {
     "name": "#%%\n"
    }
   },
   "outputs": [
    {
     "name": "stdout",
     "output_type": "stream",
     "text": [
      "60000 12000 10000\n",
      "\n",
      "48000 12000 10000\n"
     ]
    }
   ],
   "source": [
    "from torchvision import datasets\n",
    "import torchvision.transforms as transforms\n",
    "from torch.utils.data.sampler import SubsetRandomSampler\n",
    "\n",
    "# number of subprocesses to use for data loading\n",
    "num_workers = 0\n",
    "# how many samples per batch to load\n",
    "batch_size = 20\n",
    "# percentage of training set to use as validation\n",
    "valid_size = 0.2\n",
    "\n",
    "# convert data to torch.FloatTensor\n",
    "transform = transforms.ToTensor()\n",
    "\n",
    "# choose the training and test datasets\n",
    "train_data = datasets.MNIST(root='data', train=True,\n",
    "                                   download=True, transform=transform)\n",
    "test_data = datasets.MNIST(root='data', train=False,\n",
    "                                  download=True, transform=transform)\n",
    "\n",
    "# obtain training indices that will be used for validation\n",
    "num_train = len(train_data)\n",
    "indices = list(range(num_train))\n",
    "np.random.shuffle(indices)\n",
    "split = int(np.floor(valid_size * num_train))\n",
    "train_idx, valid_idx = indices[split:], indices[:split]\n",
    "\n",
    "# define samplers for obtaining training and validation batches\n",
    "train_sampler = SubsetRandomSampler(train_idx)\n",
    "valid_sampler = SubsetRandomSampler(valid_idx)\n",
    "\n",
    "# prepare data loaders\n",
    "train_loader = torch.utils.data.DataLoader(train_data, batch_size=batch_size,\n",
    "    sampler=train_sampler, num_workers=num_workers)\n",
    "valid_loader = torch.utils.data.DataLoader(train_data, batch_size=batch_size, \n",
    "    sampler=valid_sampler, num_workers=num_workers)\n",
    "test_loader = torch.utils.data.DataLoader(test_data, batch_size=batch_size, \n",
    "    num_workers=num_workers)\n",
    "\n",
    "print(len(train_data), len(valid_data), len(test_data))\n",
    "print()\n",
    "print(len(train_loader)*20, len(valid_loader)*20, len(test_loader)*20)\n"
   ]
  },
  {
   "cell_type": "markdown",
   "metadata": {
    "pycharm": {
     "name": "#%% md\n"
    }
   },
   "source": [
    "### Loaders con random_split"
   ]
  },
  {
   "cell_type": "code",
   "execution_count": 9,
   "metadata": {
    "pycharm": {
     "name": "#%%\n"
    }
   },
   "outputs": [
    {
     "name": "stdout",
     "output_type": "stream",
     "text": [
      "48000 12000 10000\n",
      "\n",
      "48000 12000 10000\n"
     ]
    },
    {
     "name": "stderr",
     "output_type": "stream",
     "text": [
      "C:\\Users\\edgar\\anaconda3\\envs\\dlnd-env\\lib\\site-packages\\torchvision\\datasets\\mnist.py:498: UserWarning: The given NumPy array is not writeable, and PyTorch does not support non-writeable tensors. This means you can write to the underlying (supposedly non-writeable) NumPy array using the tensor. You may want to copy the array to protect its data or make it writeable before converting it to a tensor. This type of warning will be suppressed for the rest of this program. (Triggered internally at  ..\\torch\\csrc\\utils\\tensor_numpy.cpp:180.)\n",
      "  return torch.from_numpy(parsed.astype(m[2], copy=False)).view(*s)\n"
     ]
    }
   ],
   "source": [
    "from torchvision import datasets\n",
    "import torchvision.transforms as transforms\n",
    "\n",
    "# number of subprocesses to use for data loading\n",
    "num_workers = 0\n",
    "# how many samples per batch to load\n",
    "batch_size = 20\n",
    "# percentage of training set to use as validation\n",
    "valid_size = 0.2\n",
    "\n",
    "# convert data to torch.FloatTensor\n",
    "transform = transforms.ToTensor()\n",
    "\n",
    "# choose the training and test datasets\n",
    "train_data = datasets.MNIST(root='data', train=True, download=True, transform=transform)\n",
    "test_data = datasets.MNIST(root='data', train=False, download=True, transform=transform)\n",
    "\n",
    "# obtain training indices that will be used for validation\n",
    "n = len(train_data)\n",
    "n_val = int(n * valid_size)\n",
    "new_train_data, valid_data = torch.utils.data.random_split(train_data, [n-n_val, n_val])\n",
    "\n",
    "# prepare data loaders\n",
    "train_loader = torch.utils.data.DataLoader(new_train_data, batch_size=batch_size, num_workers=num_workers, shuffle=True)\n",
    "valid_loader = torch.utils.data.DataLoader(valid_data, batch_size=batch_size, num_workers=num_workers, shuffle=True)\n",
    "test_loader = torch.utils.data.DataLoader(test_data, batch_size=batch_size, num_workers=num_workers, shuffle=True)\n",
    "\n",
    "print(len(new_train_data), len(valid_data), len(test_data))\n",
    "print()\n",
    "print(len(train_loader)*20, len(valid_loader)*20, len(test_loader)*20)\n"
   ]
  },
  {
   "cell_type": "markdown",
   "metadata": {
    "pycharm": {
     "name": "#%% md\n"
    }
   },
   "source": [
    "### Visualize a Batch of Training Data\n",
    "\n",
    "The first step in a classification task is to take a look at the data, make sure it is loaded in correctly, then make any initial observations about patterns in that data."
   ]
  },
  {
   "cell_type": "code",
   "execution_count": 19,
   "metadata": {
    "pycharm": {
     "name": "#%%\n"
    }
   },
   "outputs": [
    {
     "name": "stderr",
     "output_type": "stream",
     "text": [
      "<ipython-input-19-731dd270b2c2>:12: MatplotlibDeprecationWarning: Passing non-integers as three-element position specification is deprecated since 3.3 and will be removed two minor releases later.\n",
      "  ax = fig.add_subplot(2, 20/2, idx+1, xticks=[], yticks=[])\n"
     ]
    },
    {
     "data": {
      "image/png": "[encoded data removed]",
      "text/plain": [
       "<Figure size 1800x288 with 20 Axes>"
      ]
     },
     "metadata": {},
     "output_type": "display_data"
    }
   ],
   "source": [
    "import matplotlib.pyplot as plt\n",
    "%matplotlib inline\n",
    "    \n",
    "# obtain one batch of training images\n",
    "dataiter = iter(train_loader)\n",
    "images, labels = dataiter.next()\n",
    "images = images.numpy()\n",
    "\n",
    "# plot the images in the batch, along with the corresponding labels\n",
    "fig = plt.figure(figsize=(25, 4))\n",
    "for idx in np.arange(20):\n",
    "    ax = fig.add_subplot(2, 20/2, idx+1, xticks=[], yticks=[])\n",
    "    ax.imshow(np.squeeze(images[idx]), cmap='gray')\n",
    "    # print out the correct label for each image\n",
    "    # .item() gets the value contained in a Tensor\n",
    "    ax.set_title(str(labels[idx].item()))"
   ]
  },
  {
   "cell_type": "markdown",
   "metadata": {
    "pycharm": {
     "name": "#%% md\n"
    }
   },
   "source": [
    "### View an Image in More Detail"
   ]
  },
  {
   "cell_type": "code",
   "execution_count": 20,
   "metadata": {
    "pycharm": {
     "name": "#%%\n"
    }
   },
   "outputs": [
    {
     "data": {
      "image/png": "[encoded data removed]",
      "text/plain": [
       "<Figure size 864x864 with 1 Axes>"
      ]
     },
     "metadata": {
      "needs_background": "light"
     },
     "output_type": "display_data"
    }
   ],
   "source": [
    "img = np.squeeze(images[1])\n",
    "\n",
    "fig = plt.figure(figsize = (12,12)) \n",
    "ax = fig.add_subplot(111)\n",
    "ax.imshow(img, cmap='gray')\n",
    "width, height = img.shape\n",
    "thresh = img.max()/2.5\n",
    "for x in range(width):\n",
    "    for y in range(height):\n",
    "        val = round(img[x][y],2) if img[x][y] !=0 else 0\n",
    "        ax.annotate(str(val), xy=(y,x),\n",
    "                    horizontalalignment='center',\n",
    "                    verticalalignment='center',\n",
    "                    color='white' if img[x][y]<thresh else 'black')"
   ]
  },
  {
   "cell_type": "markdown",
   "metadata": {
    "pycharm": {
     "name": "#%% md\n"
    }
   },
   "source": [
    "---\n",
    "## Define the Network [Architecture](http://pytorch.org/docs/stable/nn.html)\n",
    "\n",
    "The architecture will be responsible for seeing as input a 784-dim Tensor of pixel values for each image, and producing a Tensor of length 10 (our number of classes) that indicates the class scores for an input image. This particular example uses two hidden layers and dropout to avoid overfitting."
   ]
  },
  {
   "cell_type": "code",
   "execution_count": 21,
   "metadata": {
    "pycharm": {
     "name": "#%%\n"
    }
   },
   "outputs": [
    {
     "name": "stdout",
     "output_type": "stream",
     "text": [
      "Net(\n",
      "  (fc1): Linear(in_features=784, out_features=512, bias=True)\n",
      "  (fc2): Linear(in_features=512, out_features=512, bias=True)\n",
      "  (fc3): Linear(in_features=512, out_features=10, bias=True)\n",
      "  (dropout): Dropout(p=0.2, inplace=False)\n",
      ")\n"
     ]
    }
   ],
   "source": [
    "import torch.nn as nn\n",
    "import torch.nn.functional as F\n",
    "\n",
    "# define the NN architecture\n",
    "class Net(nn.Module):\n",
    "    def __init__(self):\n",
    "        super(Net, self).__init__()\n",
    "        # number of hidden nodes in each layer (512)\n",
    "        hidden_1 = 512\n",
    "        hidden_2 = 512\n",
    "        # linear layer (784 -> hidden_1)\n",
    "        self.fc1 = nn.Linear(28 * 28, hidden_1)\n",
    "        # linear layer (n_hidden -> hidden_2)\n",
    "        self.fc2 = nn.Linear(hidden_1, hidden_2)\n",
    "        # linear layer (n_hidden -> 10)\n",
    "        self.fc3 = nn.Linear(hidden_2, 10)\n",
    "        # dropout layer (p=0.2)\n",
    "        # dropout prevents overfitting of data\n",
    "        self.dropout = nn.Dropout(0.2)\n",
    "\n",
    "    def forward(self, x):\n",
    "        # flatten image input\n",
    "        x = x.view(-1, 28 * 28)\n",
    "        # add hidden layer, with relu activation function\n",
    "        x = F.relu(self.fc1(x))\n",
    "        # add dropout layer\n",
    "        x = self.dropout(x)\n",
    "        # add hidden layer, with relu activation function\n",
    "        x = F.relu(self.fc2(x))\n",
    "        # add dropout layer\n",
    "        x = self.dropout(x)\n",
    "        # add output layer\n",
    "        x = self.fc3(x)\n",
    "        return x\n",
    "\n",
    "# initialize the NN\n",
    "model = Net()\n",
    "print(model)"
   ]
  },
  {
   "cell_type": "markdown",
   "metadata": {
    "pycharm": {
     "name": "#%% md\n"
    }
   },
   "source": [
    "###  Specify [Loss Function](http://pytorch.org/docs/stable/nn.html#loss-functions) and [Optimizer](http://pytorch.org/docs/stable/optim.html)\n",
    "\n",
    "It's recommended that you use cross-entropy loss for classification. If you look at the documentation (linked above), you can see that PyTorch's cross entropy function applies a softmax funtion to the output layer *and* then calculates the log loss."
   ]
  },
  {
   "cell_type": "code",
   "execution_count": 22,
   "metadata": {
    "pycharm": {
     "name": "#%%\n"
    }
   },
   "outputs": [],
   "source": [
    "# specify loss function (categorical cross-entropy)\n",
    "criterion = nn.CrossEntropyLoss()\n",
    "\n",
    "# specify optimizer (stochastic gradient descent) and learning rate = 0.01\n",
    "optimizer = torch.optim.SGD(model.parameters(), lr=0.01)"
   ]
  },
  {
   "cell_type": "markdown",
   "metadata": {
    "pycharm": {
     "name": "#%% md\n"
    }
   },
   "source": [
    "---\n",
    "## Train the Network\n",
    "\n",
    "The steps for training/learning from a batch of data are described in the comments below:\n",
    "1. Clear the gradients of all optimized variables\n",
    "2. Forward pass: compute predicted outputs by passing inputs to the model\n",
    "3. Calculate the loss\n",
    "4. Backward pass: compute gradient of the loss with respect to model parameters\n",
    "5. Perform a single optimization step (parameter update)\n",
    "6. Update average training loss\n",
    "\n",
    "The following loop trains for 50 epochs; take a look at how the values for the training loss decrease over time. We want it to decrease while also avoiding overfitting the training data."
   ]
  },
  {
   "cell_type": "code",
   "execution_count": 23,
   "metadata": {
    "pycharm": {
     "name": "#%%\n"
    }
   },
   "outputs": [
    {
     "name": "stdout",
     "output_type": "stream",
     "text": [
      "Epoch: 1 \tTraining Loss: 0.740077 \tValidation Loss: 0.073752\n",
      "Validation loss decreased (inf --> 0.073752).  Saving model ...\n",
      "Epoch: 2 \tTraining Loss: 0.285473 \tValidation Loss: 0.057068\n",
      "Validation loss decreased (0.073752 --> 0.057068).  Saving model ...\n",
      "Epoch: 3 \tTraining Loss: 0.224038 \tValidation Loss: 0.046917\n",
      "Validation loss decreased (0.057068 --> 0.046917).  Saving model ...\n",
      "Epoch: 4 \tTraining Loss: 0.184638 \tValidation Loss: 0.040533\n",
      "Validation loss decreased (0.046917 --> 0.040533).  Saving model ...\n",
      "Epoch: 5 \tTraining Loss: 0.157215 \tValidation Loss: 0.035197\n",
      "Validation loss decreased (0.040533 --> 0.035197).  Saving model ...\n",
      "Epoch: 6 \tTraining Loss: 0.135098 \tValidation Loss: 0.031718\n",
      "Validation loss decreased (0.035197 --> 0.031718).  Saving model ...\n",
      "Epoch: 7 \tTraining Loss: 0.120167 \tValidation Loss: 0.028297\n",
      "Validation loss decreased (0.031718 --> 0.028297).  Saving model ...\n",
      "Epoch: 8 \tTraining Loss: 0.106641 \tValidation Loss: 0.026287\n",
      "Validation loss decreased (0.028297 --> 0.026287).  Saving model ...\n",
      "Epoch: 9 \tTraining Loss: 0.096791 \tValidation Loss: 0.024764\n",
      "Validation loss decreased (0.026287 --> 0.024764).  Saving model ...\n",
      "Epoch: 10 \tTraining Loss: 0.087521 \tValidation Loss: 0.022831\n",
      "Validation loss decreased (0.024764 --> 0.022831).  Saving model ...\n",
      "Epoch: 11 \tTraining Loss: 0.079417 \tValidation Loss: 0.021461\n",
      "Validation loss decreased (0.022831 --> 0.021461).  Saving model ...\n",
      "Epoch: 12 \tTraining Loss: 0.073132 \tValidation Loss: 0.020673\n",
      "Validation loss decreased (0.021461 --> 0.020673).  Saving model ...\n",
      "Epoch: 13 \tTraining Loss: 0.068145 \tValidation Loss: 0.019567\n",
      "Validation loss decreased (0.020673 --> 0.019567).  Saving model ...\n",
      "Epoch: 14 \tTraining Loss: 0.063376 \tValidation Loss: 0.019042\n",
      "Validation loss decreased (0.019567 --> 0.019042).  Saving model ...\n",
      "Epoch: 15 \tTraining Loss: 0.057937 \tValidation Loss: 0.018115\n",
      "Validation loss decreased (0.019042 --> 0.018115).  Saving model ...\n",
      "Epoch: 16 \tTraining Loss: 0.054346 \tValidation Loss: 0.017935\n",
      "Validation loss decreased (0.018115 --> 0.017935).  Saving model ...\n",
      "Epoch: 17 \tTraining Loss: 0.051628 \tValidation Loss: 0.017743\n",
      "Validation loss decreased (0.017935 --> 0.017743).  Saving model ...\n",
      "Epoch: 18 \tTraining Loss: 0.047677 \tValidation Loss: 0.017263\n",
      "Validation loss decreased (0.017743 --> 0.017263).  Saving model ...\n",
      "Epoch: 19 \tTraining Loss: 0.044674 \tValidation Loss: 0.016471\n",
      "Validation loss decreased (0.017263 --> 0.016471).  Saving model ...\n",
      "Epoch: 20 \tTraining Loss: 0.041551 \tValidation Loss: 0.015811\n",
      "Validation loss decreased (0.016471 --> 0.015811).  Saving model ...\n",
      "Epoch: 21 \tTraining Loss: 0.038784 \tValidation Loss: 0.015780\n",
      "Validation loss decreased (0.015811 --> 0.015780).  Saving model ...\n",
      "Epoch: 22 \tTraining Loss: 0.036677 \tValidation Loss: 0.015808\n",
      "Epoch: 23 \tTraining Loss: 0.034999 \tValidation Loss: 0.015768\n",
      "Validation loss decreased (0.015780 --> 0.015768).  Saving model ...\n",
      "Epoch: 24 \tTraining Loss: 0.032983 \tValidation Loss: 0.015509\n",
      "Validation loss decreased (0.015768 --> 0.015509).  Saving model ...\n",
      "Epoch: 25 \tTraining Loss: 0.031331 \tValidation Loss: 0.015039\n",
      "Validation loss decreased (0.015509 --> 0.015039).  Saving model ...\n",
      "Epoch: 26 \tTraining Loss: 0.029131 \tValidation Loss: 0.015121\n",
      "Epoch: 27 \tTraining Loss: 0.028627 \tValidation Loss: 0.014772\n",
      "Validation loss decreased (0.015039 --> 0.014772).  Saving model ...\n",
      "Epoch: 28 \tTraining Loss: 0.027865 \tValidation Loss: 0.015176\n",
      "Epoch: 29 \tTraining Loss: 0.026096 \tValidation Loss: 0.014831\n",
      "Epoch: 30 \tTraining Loss: 0.023305 \tValidation Loss: 0.014678\n",
      "Validation loss decreased (0.014772 --> 0.014678).  Saving model ...\n",
      "Epoch: 31 \tTraining Loss: 0.023503 \tValidation Loss: 0.014143\n",
      "Validation loss decreased (0.014678 --> 0.014143).  Saving model ...\n",
      "Epoch: 32 \tTraining Loss: 0.021348 \tValidation Loss: 0.014520\n",
      "Epoch: 33 \tTraining Loss: 0.020873 \tValidation Loss: 0.014401\n",
      "Epoch: 34 \tTraining Loss: 0.020331 \tValidation Loss: 0.014471\n",
      "Epoch: 35 \tTraining Loss: 0.018840 \tValidation Loss: 0.014341\n",
      "Epoch: 36 \tTraining Loss: 0.018159 \tValidation Loss: 0.014249\n",
      "Epoch: 37 \tTraining Loss: 0.017260 \tValidation Loss: 0.014203\n",
      "Epoch: 38 \tTraining Loss: 0.016043 \tValidation Loss: 0.014177\n",
      "Epoch: 39 \tTraining Loss: 0.015788 \tValidation Loss: 0.013885\n",
      "Validation loss decreased (0.014143 --> 0.013885).  Saving model ...\n",
      "Epoch: 40 \tTraining Loss: 0.015542 \tValidation Loss: 0.014255\n",
      "Epoch: 41 \tTraining Loss: 0.014635 \tValidation Loss: 0.014294\n",
      "Epoch: 42 \tTraining Loss: 0.013996 \tValidation Loss: 0.014013\n",
      "Epoch: 43 \tTraining Loss: 0.012712 \tValidation Loss: 0.014286\n",
      "Epoch: 44 \tTraining Loss: 0.012855 \tValidation Loss: 0.014245\n",
      "Epoch: 45 \tTraining Loss: 0.012430 \tValidation Loss: 0.014222\n",
      "Epoch: 46 \tTraining Loss: 0.012186 \tValidation Loss: 0.014362\n",
      "Epoch: 47 \tTraining Loss: 0.010694 \tValidation Loss: 0.014363\n",
      "Epoch: 48 \tTraining Loss: 0.010646 \tValidation Loss: 0.014079\n",
      "Epoch: 49 \tTraining Loss: 0.010610 \tValidation Loss: 0.014326\n",
      "Epoch: 50 \tTraining Loss: 0.010037 \tValidation Loss: 0.014326\n"
     ]
    }
   ],
   "source": [
    "# number of epochs to train the model\n",
    "n_epochs = 50\n",
    "\n",
    "# initialize tracker for minimum validation loss\n",
    "valid_loss_min = np.Inf # set initial \"min\" to infinity\n",
    "\n",
    "for epoch in range(n_epochs):\n",
    "    # monitor training loss\n",
    "    train_loss = 0.0\n",
    "    valid_loss = 0.0\n",
    "    \n",
    "    ###################\n",
    "    # train the model #\n",
    "    ###################\n",
    "    model.train() # prep model for training\n",
    "    for data, target in train_loader:\n",
    "        # clear the gradients of all optimized variables\n",
    "        optimizer.zero_grad()\n",
    "        # forward pass: compute predicted outputs by passing inputs to the model\n",
    "        output = model(data)\n",
    "        # calculate the loss\n",
    "        loss = criterion(output, target)\n",
    "        # backward pass: compute gradient of the loss with respect to model parameters\n",
    "        loss.backward()\n",
    "        # perform a single optimization step (parameter update)\n",
    "        optimizer.step()\n",
    "        # update running training loss\n",
    "        train_loss += loss.item()*data.size(0)\n",
    "        \n",
    "    ######################    \n",
    "    # validate the model #\n",
    "    ######################\n",
    "    model.eval() # prep model for evaluation\n",
    "    for data, target in valid_loader:\n",
    "        # forward pass: compute predicted outputs by passing inputs to the model\n",
    "        output = model(data)\n",
    "        # calculate the loss\n",
    "        loss = criterion(output, target)\n",
    "        # update running validation loss \n",
    "        valid_loss += loss.item()*data.size(0)\n",
    "        \n",
    "    # print training/validation statistics \n",
    "    # calculate average loss over an epoch\n",
    "    train_loss = train_loss/len(train_loader.dataset)\n",
    "    valid_loss = valid_loss/len(valid_loader.dataset)\n",
    "    \n",
    "    print('Epoch: {} \\tTraining Loss: {:.6f} \\tValidation Loss: {:.6f}'.format(\n",
    "        epoch+1, \n",
    "        train_loss,\n",
    "        valid_loss\n",
    "        ))\n",
    "    \n",
    "    # save model if validation loss has decreased\n",
    "    if valid_loss <= valid_loss_min:\n",
    "        print('Validation loss decreased ({:.6f} --> {:.6f}).  Saving model ...'.format(\n",
    "        valid_loss_min,\n",
    "        valid_loss))\n",
    "        torch.save(model.state_dict(), 'model.pt')\n",
    "        valid_loss_min = valid_loss"
   ]
  },
  {
   "cell_type": "markdown",
   "metadata": {
    "pycharm": {
     "name": "#%% md\n"
    }
   },
   "source": [
    "## Entrenando con random_split datasets"
   ]
  },
  {
   "cell_type": "code",
   "execution_count": 49,
   "metadata": {
    "pycharm": {
     "name": "#%%\n"
    }
   },
   "outputs": [
    {
     "name": "stdout",
     "output_type": "stream",
     "text": [
      "Epoch: 1 \tTraining Loss: 0.939420 \tValidation Loss: 0.374142\n",
      "Validation loss decreased (inf --> 0.374142).  Saving model ...\n",
      "Epoch: 2 \tTraining Loss: 0.356608 \tValidation Loss: 0.289333\n",
      "Validation loss decreased (0.374142 --> 0.289333).  Saving model ...\n",
      "Epoch: 3 \tTraining Loss: 0.285541 \tValidation Loss: 0.234914\n",
      "Validation loss decreased (0.289333 --> 0.234914).  Saving model ...\n",
      "Epoch: 4 \tTraining Loss: 0.233809 \tValidation Loss: 0.199271\n",
      "Validation loss decreased (0.234914 --> 0.199271).  Saving model ...\n",
      "Epoch: 5 \tTraining Loss: 0.199461 \tValidation Loss: 0.176613\n",
      "Validation loss decreased (0.199271 --> 0.176613).  Saving model ...\n",
      "Epoch: 6 \tTraining Loss: 0.173439 \tValidation Loss: 0.155091\n",
      "Validation loss decreased (0.176613 --> 0.155091).  Saving model ...\n",
      "Epoch: 7 \tTraining Loss: 0.152328 \tValidation Loss: 0.139516\n",
      "Validation loss decreased (0.155091 --> 0.139516).  Saving model ...\n",
      "Epoch: 8 \tTraining Loss: 0.136479 \tValidation Loss: 0.129682\n",
      "Validation loss decreased (0.139516 --> 0.129682).  Saving model ...\n",
      "Epoch: 9 \tTraining Loss: 0.123016 \tValidation Loss: 0.121669\n",
      "Validation loss decreased (0.129682 --> 0.121669).  Saving model ...\n",
      "Epoch: 10 \tTraining Loss: 0.111417 \tValidation Loss: 0.112505\n",
      "Validation loss decreased (0.121669 --> 0.112505).  Saving model ...\n",
      "Epoch: 11 \tTraining Loss: 0.103408 \tValidation Loss: 0.106352\n",
      "Validation loss decreased (0.112505 --> 0.106352).  Saving model ...\n",
      "Epoch: 12 \tTraining Loss: 0.094214 \tValidation Loss: 0.100874\n",
      "Validation loss decreased (0.106352 --> 0.100874).  Saving model ...\n",
      "Epoch: 13 \tTraining Loss: 0.089260 \tValidation Loss: 0.094761\n",
      "Validation loss decreased (0.100874 --> 0.094761).  Saving model ...\n",
      "Epoch: 14 \tTraining Loss: 0.079975 \tValidation Loss: 0.091040\n",
      "Validation loss decreased (0.094761 --> 0.091040).  Saving model ...\n",
      "Epoch: 15 \tTraining Loss: 0.075827 \tValidation Loss: 0.088787\n",
      "Validation loss decreased (0.091040 --> 0.088787).  Saving model ...\n",
      "Epoch: 16 \tTraining Loss: 0.069974 \tValidation Loss: 0.084332\n",
      "Validation loss decreased (0.088787 --> 0.084332).  Saving model ...\n",
      "Epoch: 17 \tTraining Loss: 0.065498 \tValidation Loss: 0.082842\n",
      "Validation loss decreased (0.084332 --> 0.082842).  Saving model ...\n",
      "Epoch: 18 \tTraining Loss: 0.061572 \tValidation Loss: 0.083877\n",
      "Epoch: 19 \tTraining Loss: 0.058046 \tValidation Loss: 0.081499\n",
      "Validation loss decreased (0.082842 --> 0.081499).  Saving model ...\n",
      "Epoch: 20 \tTraining Loss: 0.055005 \tValidation Loss: 0.079083\n",
      "Validation loss decreased (0.081499 --> 0.079083).  Saving model ...\n",
      "Epoch: 21 \tTraining Loss: 0.049580 \tValidation Loss: 0.077478\n",
      "Validation loss decreased (0.079083 --> 0.077478).  Saving model ...\n",
      "Epoch: 22 \tTraining Loss: 0.049054 \tValidation Loss: 0.076168\n",
      "Validation loss decreased (0.077478 --> 0.076168).  Saving model ...\n",
      "Epoch: 23 \tTraining Loss: 0.045524 \tValidation Loss: 0.074481\n",
      "Validation loss decreased (0.076168 --> 0.074481).  Saving model ...\n",
      "Epoch: 24 \tTraining Loss: 0.043406 \tValidation Loss: 0.073601\n",
      "Validation loss decreased (0.074481 --> 0.073601).  Saving model ...\n",
      "Epoch: 25 \tTraining Loss: 0.041659 \tValidation Loss: 0.072699\n",
      "Validation loss decreased (0.073601 --> 0.072699).  Saving model ...\n",
      "Epoch: 26 \tTraining Loss: 0.039088 \tValidation Loss: 0.073437\n",
      "Epoch: 27 \tTraining Loss: 0.037136 \tValidation Loss: 0.071740\n",
      "Validation loss decreased (0.072699 --> 0.071740).  Saving model ...\n",
      "Epoch: 28 \tTraining Loss: 0.034502 \tValidation Loss: 0.070063\n",
      "Validation loss decreased (0.071740 --> 0.070063).  Saving model ...\n",
      "Epoch: 29 \tTraining Loss: 0.032499 \tValidation Loss: 0.069949\n",
      "Validation loss decreased (0.070063 --> 0.069949).  Saving model ...\n",
      "Epoch: 30 \tTraining Loss: 0.030461 \tValidation Loss: 0.069999\n",
      "Epoch: 31 \tTraining Loss: 0.028582 \tValidation Loss: 0.069529\n",
      "Validation loss decreased (0.069949 --> 0.069529).  Saving model ...\n",
      "Epoch: 32 \tTraining Loss: 0.027654 \tValidation Loss: 0.068196\n",
      "Validation loss decreased (0.069529 --> 0.068196).  Saving model ...\n",
      "Epoch: 33 \tTraining Loss: 0.026357 \tValidation Loss: 0.069913\n",
      "Epoch: 34 \tTraining Loss: 0.025125 \tValidation Loss: 0.068599\n",
      "Epoch: 35 \tTraining Loss: 0.024862 \tValidation Loss: 0.069815\n",
      "Epoch: 36 \tTraining Loss: 0.023497 \tValidation Loss: 0.069095\n",
      "Epoch: 37 \tTraining Loss: 0.022059 \tValidation Loss: 0.068013\n",
      "Validation loss decreased (0.068196 --> 0.068013).  Saving model ...\n",
      "Epoch: 38 \tTraining Loss: 0.021702 \tValidation Loss: 0.069548\n",
      "Epoch: 39 \tTraining Loss: 0.020624 \tValidation Loss: 0.068744\n",
      "Epoch: 40 \tTraining Loss: 0.019631 \tValidation Loss: 0.067048\n",
      "Validation loss decreased (0.068013 --> 0.067048).  Saving model ...\n",
      "Epoch: 41 \tTraining Loss: 0.018769 \tValidation Loss: 0.067546\n",
      "Epoch: 42 \tTraining Loss: 0.017749 \tValidation Loss: 0.067665\n",
      "Epoch: 43 \tTraining Loss: 0.017952 \tValidation Loss: 0.067984\n",
      "Epoch: 44 \tTraining Loss: 0.016624 \tValidation Loss: 0.067934\n",
      "Epoch: 45 \tTraining Loss: 0.016258 \tValidation Loss: 0.068871\n",
      "Epoch: 46 \tTraining Loss: 0.014772 \tValidation Loss: 0.067832\n",
      "Epoch: 47 \tTraining Loss: 0.014946 \tValidation Loss: 0.066515\n",
      "Validation loss decreased (0.067048 --> 0.066515).  Saving model ...\n",
      "Epoch: 48 \tTraining Loss: 0.013419 \tValidation Loss: 0.069185\n",
      "Epoch: 49 \tTraining Loss: 0.013030 \tValidation Loss: 0.068700\n",
      "Epoch: 50 \tTraining Loss: 0.013678 \tValidation Loss: 0.069145\n"
     ]
    }
   ],
   "source": [
    "# number of epochs to train the model\n",
    "n_epochs = 50\n",
    "\n",
    "# initialize tracker for minimum validation loss\n",
    "valid_loss_min = np.Inf # set initial \"min\" to infinity\n",
    "\n",
    "for epoch in range(n_epochs):\n",
    "    # monitor training loss\n",
    "    train_loss = 0.0\n",
    "    valid_loss = 0.0\n",
    "    \n",
    "    ###################\n",
    "    # train the model #\n",
    "    ###################\n",
    "    model.train() # prep model for training\n",
    "    for data, target in train_loader:\n",
    "        # clear the gradients of all optimized variables\n",
    "        optimizer.zero_grad()\n",
    "        # forward pass: compute predicted outputs by passing inputs to the model\n",
    "        output = model(data)\n",
    "        # calculate the loss\n",
    "        loss = criterion(output, target)\n",
    "        # backward pass: compute gradient of the loss with respect to model parameters\n",
    "        loss.backward()\n",
    "        # perform a single optimization step (parameter update)\n",
    "        optimizer.step()\n",
    "        # update running training loss\n",
    "        train_loss += loss.item()*data.size(0)\n",
    "        \n",
    "    ######################    \n",
    "    # validate the model #\n",
    "    ######################\n",
    "    model.eval() # prep model for evaluation\n",
    "    for data, target in valid_loader:\n",
    "        # forward pass: compute predicted outputs by passing inputs to the model\n",
    "        output = model(data)\n",
    "        # calculate the loss\n",
    "        loss = criterion(output, target)\n",
    "        # update running validation loss \n",
    "        valid_loss += loss.item()*data.size(0)\n",
    "        \n",
    "    # print training/validation statistics \n",
    "    # calculate average loss over an epoch\n",
    "    train_loss = train_loss/len(train_loader.dataset)\n",
    "    valid_loss = valid_loss/len(valid_loader.dataset)\n",
    "    \n",
    "    print('Epoch: {} \\tTraining Loss: {:.6f} \\tValidation Loss: {:.6f}'.format(\n",
    "        epoch+1, \n",
    "        train_loss,\n",
    "        valid_loss\n",
    "        ))\n",
    "    \n",
    "    # save model if validation loss has decreased\n",
    "    if valid_loss <= valid_loss_min:\n",
    "        print('Validation loss decreased ({:.6f} --> {:.6f}).  Saving model ...'.format(\n",
    "        valid_loss_min,\n",
    "        valid_loss))\n",
    "        torch.save(model.state_dict(), 'model-rsplit.pt')\n",
    "        valid_loss_min = valid_loss"
   ]
  },
  {
   "cell_type": "markdown",
   "metadata": {
    "pycharm": {
     "name": "#%% md\n"
    }
   },
   "source": [
    "###  Load the Model with the Lowest Validation Loss"
   ]
  },
  {
   "cell_type": "code",
   "execution_count": 24,
   "metadata": {
    "pycharm": {
     "name": "#%%\n"
    }
   },
   "outputs": [
    {
     "data": {
      "text/plain": [
       "<All keys matched successfully>"
      ]
     },
     "execution_count": 24,
     "metadata": {},
     "output_type": "execute_result"
    }
   ],
   "source": [
    "model.load_state_dict(torch.load('model.pt'))"
   ]
  },
  {
   "cell_type": "markdown",
   "metadata": {
    "pycharm": {
     "name": "#%% md\n"
    }
   },
   "source": [
    "---\n",
    "## Test the Trained Network\n",
    "\n",
    "Finally, we test our best model on previously unseen **test data** and evaluate it's performance. Testing on unseen data is a good way to check that our model generalizes well. It may also be useful to be granular in this analysis and take a look at how this model performs on each class as well as looking at its overall loss and accuracy."
   ]
  },
  {
   "cell_type": "code",
   "execution_count": 25,
   "metadata": {
    "pycharm": {
     "name": "#%%\n"
    }
   },
   "outputs": [
    {
     "name": "stdout",
     "output_type": "stream",
     "text": [
      "Test Loss: 0.059655\n",
      "\n",
      "Test Accuracy of     0: 98% (969/980)\n",
      "Test Accuracy of     1: 99% (1126/1135)\n",
      "Test Accuracy of     2: 97% (1005/1032)\n",
      "Test Accuracy of     3: 98% (991/1010)\n",
      "Test Accuracy of     4: 98% (966/982)\n",
      "Test Accuracy of     5: 98% (875/892)\n",
      "Test Accuracy of     6: 98% (940/958)\n",
      "Test Accuracy of     7: 98% (1009/1028)\n",
      "Test Accuracy of     8: 97% (952/974)\n",
      "Test Accuracy of     9: 97% (985/1009)\n",
      "\n",
      "Test Accuracy (Overall): 98% (9818/10000)\n"
     ]
    }
   ],
   "source": [
    "# initialize lists to monitor test loss and accuracy\n",
    "test_loss = 0.0\n",
    "class_correct = list(0. for i in range(10))\n",
    "class_total = list(0. for i in range(10))\n",
    "\n",
    "model.eval() # prep model for evaluation\n",
    "\n",
    "for data, target in test_loader:\n",
    "    # forward pass: compute predicted outputs by passing inputs to the model\n",
    "    output = model(data)\n",
    "    # calculate the loss\n",
    "    loss = criterion(output, target)\n",
    "    # update test loss \n",
    "    test_loss += loss.item()*data.size(0)\n",
    "    # convert output probabilities to predicted class\n",
    "    _, pred = torch.max(output, 1)\n",
    "    # compare predictions to true label\n",
    "    correct = np.squeeze(pred.eq(target.data.view_as(pred)))\n",
    "    # calculate test accuracy for each object class\n",
    "    for i in range(batch_size):\n",
    "        label = target.data[i]\n",
    "        class_correct[label] += correct[i].item()\n",
    "        class_total[label] += 1\n",
    "\n",
    "# calculate and print avg test loss\n",
    "test_loss = test_loss/len(test_loader.dataset)\n",
    "print('Test Loss: {:.6f}\\n'.format(test_loss))\n",
    "\n",
    "for i in range(10):\n",
    "    if class_total[i] > 0:\n",
    "        print('Test Accuracy of %5s: %2d%% (%2d/%2d)' % (\n",
    "            str(i), 100 * class_correct[i] / class_total[i],\n",
    "            np.sum(class_correct[i]), np.sum(class_total[i])))\n",
    "    else:\n",
    "        print('Test Accuracy of %5s: N/A (no training examples)' % (classes[i]))\n",
    "\n",
    "print('\\nTest Accuracy (Overall): %2d%% (%2d/%2d)' % (\n",
    "    100. * np.sum(class_correct) / np.sum(class_total),\n",
    "    np.sum(class_correct), np.sum(class_total)))"
   ]
  },
  {
   "cell_type": "markdown",
   "metadata": {
    "pycharm": {
     "name": "#%% md\n"
    }
   },
   "source": [
    "#### Test on random split"
   ]
  },
  {
   "cell_type": "code",
   "execution_count": 14,
   "metadata": {
    "pycharm": {
     "name": "#%%\n"
    }
   },
   "outputs": [
    {
     "data": {
      "text/plain": [
       "<All keys matched successfully>"
      ]
     },
     "execution_count": 14,
     "metadata": {},
     "output_type": "execute_result"
    }
   ],
   "source": [
    "model.load_state_dict(torch.load('model-rsplit.pt'))"
   ]
  },
  {
   "cell_type": "code",
   "execution_count": 13,
   "metadata": {
    "pycharm": {
     "name": "#%%\n"
    }
   },
   "outputs": [
    {
     "name": "stdout",
     "output_type": "stream",
     "text": [
      "Test Loss: 0.061688\n",
      "\n",
      "Test Accuracy of     0: 98% (970/980)\n",
      "Test Accuracy of     1: 99% (1127/1135)\n",
      "Test Accuracy of     2: 97% (1008/1032)\n",
      "Test Accuracy of     3: 98% (992/1010)\n",
      "Test Accuracy of     4: 97% (962/982)\n",
      "Test Accuracy of     5: 97% (869/892)\n",
      "Test Accuracy of     6: 97% (937/958)\n",
      "Test Accuracy of     7: 97% (1000/1028)\n",
      "Test Accuracy of     8: 97% (949/974)\n",
      "Test Accuracy of     9: 98% (990/1009)\n",
      "\n",
      "Test Accuracy (Overall): 98% (9804/10000)\n"
     ]
    }
   ],
   "source": [
    "# initialize lists to monitor test loss and accuracy\n",
    "test_loss = 0.0\n",
    "class_correct = list(0. for i in range(10))\n",
    "class_total = list(0. for i in range(10))\n",
    "\n",
    "model.eval() # prep model for evaluation\n",
    "\n",
    "for data, target in test_loader:\n",
    "    # forward pass: compute predicted outputs by passing inputs to the model\n",
    "    output = model(data)\n",
    "    # calculate the loss\n",
    "    loss = criterion(output, target)\n",
    "    # update test loss \n",
    "    test_loss += loss.item()*data.size(0)\n",
    "    # convert output probabilities to predicted class\n",
    "    _, pred = torch.max(output, 1)\n",
    "    # compare predictions to true label\n",
    "    correct = np.squeeze(pred.eq(target.data.view_as(pred)))\n",
    "    # calculate test accuracy for each object class\n",
    "    for i in range(batch_size):\n",
    "        label = target.data[i]\n",
    "        class_correct[label] += correct[i].item()\n",
    "        class_total[label] += 1\n",
    "\n",
    "# calculate and print avg test loss\n",
    "test_loss = test_loss/len(test_loader.dataset)\n",
    "print('Test Loss: {:.6f}\\n'.format(test_loss))\n",
    "\n",
    "for i in range(10):\n",
    "    if class_total[i] > 0:\n",
    "        print('Test Accuracy of %5s: %2d%% (%2d/%2d)' % (\n",
    "            str(i), 100 * class_correct[i] / class_total[i],\n",
    "            np.sum(class_correct[i]), np.sum(class_total[i])))\n",
    "    else:\n",
    "        print('Test Accuracy of %5s: N/A (no training examples)' % (classes[i]))\n",
    "\n",
    "print('\\nTest Accuracy (Overall): %2d%% (%2d/%2d)' % (\n",
    "    100. * np.sum(class_correct) / np.sum(class_total),\n",
    "    np.sum(class_correct), np.sum(class_total)))"
   ]
  },
  {
   "cell_type": "markdown",
   "metadata": {
    "pycharm": {
     "name": "#%% md\n"
    }
   },
   "source": [
    "### Visualize Sample Test Results\n",
    "\n",
    "This cell displays test images and their labels in this format: `predicted (ground-truth)`. The text will be green for accurately classified examples and red for incorrect predictions."
   ]
  },
  {
   "cell_type": "code",
   "execution_count": 21,
   "metadata": {
    "pycharm": {
     "name": "#%%\n"
    }
   },
   "outputs": [
    {
     "name": "stderr",
     "output_type": "stream",
     "text": [
      "<ipython-input-21-48bf1d79b703>:15: MatplotlibDeprecationWarning: Passing non-integers as three-element position specification is deprecated since 3.3 and will be removed two minor releases later.\n",
      "  ax = fig.add_subplot(2, 20/2, idx+1, xticks=[], yticks=[])\n"
     ]
    },
    {
     "data": {
      "image/png": "[encoded data removed]",
      "text/plain": [
       "<Figure size 1800x288 with 20 Axes>"
      ]
     },
     "metadata": {},
     "output_type": "display_data"
    }
   ],
   "source": [
    "# obtain one batch of test images\n",
    "dataiter = iter(test_loader)\n",
    "images, labels = dataiter.next()\n",
    "\n",
    "# get sample outputs\n",
    "output = model(images)\n",
    "# convert output probabilities to predicted class\n",
    "_, preds = torch.max(output, 1)\n",
    "# prep images for display\n",
    "images = images.numpy()\n",
    "\n",
    "# plot the images in the batch, along with predicted and true labels\n",
    "fig = plt.figure(figsize=(25, 4))\n",
    "for idx in np.arange(20):\n",
    "    ax = fig.add_subplot(2, 20/2, idx+1, xticks=[], yticks=[])\n",
    "    ax.imshow(np.squeeze(images[idx]), cmap='gray')\n",
    "    ax.set_title(\"{} ({})\".format(str(preds[idx].item()), str(labels[idx].item())),\n",
    "                 color=(\"green\" if preds[idx]==labels[idx] else \"red\"))"
   ]
  },
  {
   "cell_type": "code",
   "execution_count": null,
   "metadata": {
    "pycharm": {
     "name": "#%%\n"
    }
   },
   "outputs": [],
   "source": []
  }
 ],
 "metadata": {
  "anaconda-cloud": {},
  "kernelspec": {
   "display_name": "Python 3",
   "language": "python",
   "name": "python3"
  },
  "language_info": {
   "codemirror_mode": {
    "name": "ipython",
    "version": 3
   },
   "file_extension": ".py",
   "mimetype": "text/x-python",
   "name": "python",
   "nbconvert_exporter": "python",
   "pygments_lexer": "ipython3",
   "version": "3.8.10"
  }
 },
 "nbformat": 4,
 "nbformat_minor": 4
}