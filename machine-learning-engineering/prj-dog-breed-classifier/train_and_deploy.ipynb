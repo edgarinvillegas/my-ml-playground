{
 "cells": [
  {
   "cell_type": "markdown",
   "metadata": {},
   "source": [
    "# Dog Breed Classifier with HPO/Debugging/Profiling\n",
    "\n",
    "This notebook lists all the steps that you need to complete the complete this project. You will need to complete all the TODOs in this notebook as well as in the README and the two python scripts included with the starter code.\n",
    "\n",
    "\n",
    "**TODO**: Give a helpful introduction to what this notebook is for. Remember that comments, explanations and good documentation make your project informative and professional.\n",
    "\n",
    "**Note:** This notebook has a bunch of code and markdown cells with TODOs that you have to complete. These are meant to be helpful guidelines for you to finish your project while meeting the requirements in the project rubrics. Feel free to change the order of these the TODO's and use more than one TODO code cell to do all your tasks."
   ]
  },
  {
   "cell_type": "code",
   "execution_count": 3,
   "metadata": {
    "scrolled": true
   },
   "outputs": [
    {
     "name": "stdout",
     "output_type": "stream",
     "text": [
      "Requirement already satisfied: smdebug in /opt/conda/lib/python3.6/site-packages (1.0.9)\n",
      "Requirement already satisfied: packaging in /opt/conda/lib/python3.6/site-packages (from smdebug) (21.3)\n",
      "Requirement already satisfied: pyinstrument>=3.1.3 in /opt/conda/lib/python3.6/site-packages (from smdebug) (3.4.2)\n",
      "Requirement already satisfied: numpy>=1.16.0 in /opt/conda/lib/python3.6/site-packages (from smdebug) (1.19.1)\n",
      "Requirement already satisfied: protobuf>=3.6.0 in /opt/conda/lib/python3.6/site-packages (from smdebug) (3.19.1)\n",
      "Requirement already satisfied: boto3>=1.10.32 in /opt/conda/lib/python3.6/site-packages (from smdebug) (1.20.24)\n",
      "Requirement already satisfied: botocore<1.24.0,>=1.23.24 in /opt/conda/lib/python3.6/site-packages (from boto3>=1.10.32->smdebug) (1.23.24)\n",
      "Requirement already satisfied: s3transfer<0.6.0,>=0.5.0 in /opt/conda/lib/python3.6/site-packages (from boto3>=1.10.32->smdebug) (0.5.0)\n",
      "Requirement already satisfied: jmespath<1.0.0,>=0.7.1 in /opt/conda/lib/python3.6/site-packages (from boto3>=1.10.32->smdebug) (0.10.0)\n",
      "Requirement already satisfied: pyinstrument-cext>=0.2.2 in /opt/conda/lib/python3.6/site-packages (from pyinstrument>=3.1.3->smdebug) (0.2.4)\n",
      "Requirement already satisfied: pyparsing!=3.0.5,>=2.0.2 in /opt/conda/lib/python3.6/site-packages (from packaging->smdebug) (3.0.6)\n",
      "Requirement already satisfied: python-dateutil<3.0.0,>=2.1 in /opt/conda/lib/python3.6/site-packages (from botocore<1.24.0,>=1.23.24->boto3>=1.10.32->smdebug) (2.8.2)\n",
      "Requirement already satisfied: urllib3<1.27,>=1.25.4 in /opt/conda/lib/python3.6/site-packages (from botocore<1.24.0,>=1.23.24->boto3>=1.10.32->smdebug) (1.26.6)\n",
      "Requirement already satisfied: six>=1.5 in /opt/conda/lib/python3.6/site-packages (from python-dateutil<3.0.0,>=2.1->botocore<1.24.0,>=1.23.24->boto3>=1.10.32->smdebug) (1.16.0)\n",
      "\u001b[33mWARNING: Running pip as the 'root' user can result in broken permissions and conflicting behaviour with the system package manager. It is recommended to use a virtual environment instead: https://pip.pypa.io/warnings/venv\u001b[0m\n"
     ]
    }
   ],
   "source": [
    "# DONE: Install any packages that you might need\n",
    "!pip install smdebug"
   ]
  },
  {
   "cell_type": "code",
   "execution_count": 4,
   "metadata": {},
   "outputs": [
    {
     "data": {
      "text/plain": [
       "'s3://edgarin-mlend/prj-dogbreed/dogImages'"
      ]
     },
     "execution_count": 4,
     "metadata": {},
     "output_type": "execute_result"
    }
   ],
   "source": [
    "# DONE: Import any packages that you might need\n",
    "import sagemaker\n",
    "import boto3\n",
    "\n",
    "sagemaker_session = sagemaker.Session()\n",
    "\n",
    "# bucket = sagemaker_session.default_bucket()\n",
    "bucket = 'edgarin-mlend'\n",
    "prj_prefix = 'prj-dogbreed'\n",
    "data_prefix = f\"{prj_prefix}/dogImages\"\n",
    "data_s3_uri = f\"s3://{bucket}/{data_prefix}\"\n",
    "\n",
    "role = sagemaker.get_execution_role()\n",
    "data_s3_uri"
   ]
  },
  {
   "cell_type": "markdown",
   "metadata": {},
   "source": [
    "## DatasHyperparameterTunerDO: Explain what dataset you are using for this project. Maybe even give a small overview of the classes, class distributions etc that can help anyone not familiar with the dataset get a better understand of it."
   ]
  },
  {
   "cell_type": "code",
   "execution_count": null,
   "metadata": {},
   "outputs": [],
   "source": [
    "#DONE: Fetch and upload the data to AWS S3\n",
    "\n",
    "# Command to download and unzip data\n",
    "!wget https://s3-us-west-1.amazonaws.com/udacity-aind/dog-project/dogImages.zip\n",
    "!unzip dogImages.zip"
   ]
  },
  {
   "cell_type": "code",
   "execution_count": 4,
   "metadata": {},
   "outputs": [
    {
     "data": {
      "text/plain": [
       "'s3://edgarin-mlend/prj-dogbreed/dogImages.zip'"
      ]
     },
     "execution_count": 4,
     "metadata": {},
     "output_type": "execute_result"
    }
   ],
   "source": [
    "sagemaker_session.upload_data('./dogImages.zip', bucket=bucket, key_prefix=prj_prefix)\n",
    "# The unzipping is done with Lambda separately"
   ]
  },
  {
   "cell_type": "markdown",
   "metadata": {},
   "source": [
    "## Hyperparameter Tuning\n",
    "**TODO:** This is the part where you will finetune a pretrained model with hyperparameter tuning. Remember that you have to tune a minimum of two hyperparameters. However you are encouraged to tune more. You are also encouraged to explain why you chose to tune those particular hyperparameters and the ranges.\n",
    "\n",
    "**Note:** You will need to use the `hpo.py` script to perform hyperparameter tuning."
   ]
  },
  {
   "cell_type": "markdown",
   "metadata": {},
   "source": [
    "#### Test the train script in isolation"
   ]
  },
  {
   "cell_type": "code",
   "execution_count": 2,
   "metadata": {},
   "outputs": [
    {
     "name": "stdout",
     "output_type": "stream",
     "text": [
      "ALL ARGS:  Namespace(batch_size=64, current_host='', epochs=1, hosts=[], lr=0.003, model_dir='./model', num_gpus=1, test_batch_size=64, test_dir='./dogImages-express/test', train_dir='./dogImages-express/valid')\n",
      "Start training...\n",
      "[2022-01-20 02:25:06.092 1-8-1-cpu-py36-ml-t3-medium-05a4a7868130c7575335c53b16c7:322 INFO utils.py:27] RULE_JOB_STOP_SIGNAL_FILENAME: None\n",
      "[2022-01-20 02:25:06.395 1-8-1-cpu-py36-ml-t3-medium-05a4a7868130c7575335c53b16c7:322 INFO profiler_config_parser.py:102] Unable to find config at /opt/ml/input/config/profilerconfig.json. Profiler is disabled.\n",
      "  Epoch 1.. Epoch progress: 0.0%.. Batch avg train loss: 0.076.. \n",
      "  Epoch 1.. Epoch progress: 71.4%.. Batch avg train loss: 0.076.. \n",
      "Epoch 1.. Progress: 0.0% Train loss: 0.083 Test loss: 0.075 Test accuracy: 0.143\n",
      "Final test accuracy: 0.143\n",
      "done\n"
     ]
    }
   ],
   "source": [
    "!SM_HOSTS='[]' SM_CURRENT_HOST='' SM_MODEL_DIR='./model' SM_CHANNEL_TRAIN='./dogImages-express/valid' SM_CHANNEL_TEST='./dogImages-express/test' SM_NUM_GPUS=1  python3 train_model.py --batch-size 64 --test-batch-size 64 --epochs 1 --lr 0.003"
   ]
  },
  {
   "cell_type": "code",
   "execution_count": 3,
   "metadata": {},
   "outputs": [],
   "source": [
    "from sagemaker.tuner import (\n",
    "    IntegerParameter,\n",
    "    CategoricalParameter,\n",
    "    ContinuousParameter,\n",
    "    HyperparameterTuner,\n",
    ")\n",
    "\n",
    "# DONE: Declare your HP ranges, metrics etc.\n",
    "hyperparameter_ranges = {\n",
    "    'batch-size': CategoricalParameter([128, 256]),\n",
    "    'lr': ContinuousParameter(0.001, 0.01),\n",
    "    'epochs': IntegerParameter(2, 5),\n",
    "}\n",
    "\n",
    "objective_metric_name = \"Average test accuracy\"\n",
    "objective_type = \"Maximize\"\n",
    "metric_definitions = [{\"Name\": \"Average test accuracy\", \"Regex\": \"Test accuracy: ([0-9\\\\.]+)\"}]\n",
    "\n"
   ]
  },
  {
   "cell_type": "code",
   "execution_count": 23,
   "metadata": {},
   "outputs": [],
   "source": [
    "# DONE: Create estimators for your HPs\n",
    "from sagemaker.pytorch import PyTorch\n",
    "\n",
    "# DONE: Your estimator here\n",
    "estimator = PyTorch(\n",
    "    entry_point=\"hpo.py\",\n",
    "    role=role,\n",
    "    py_version='py36',\n",
    "    framework_version=\"1.8\",\n",
    "    instance_count=1,\n",
    "    instance_type=\"ml.m5.large\",\n",
    "    #instance_type='ml.p3.2xlarge',  \n",
    ")\n",
    "\n",
    "# DONE: Your HP tuner here\n",
    "tuner = HyperparameterTuner(\n",
    "    estimator,\n",
    "    objective_metric_name,\n",
    "    hyperparameter_ranges,\n",
    "    metric_definitions,\n",
    "    max_jobs=16,\n",
    "    max_parallel_jobs=4,\n",
    "    objective_type=objective_type\n",
    ")"
   ]
  },
  {
   "cell_type": "code",
   "execution_count": 6,
   "metadata": {},
   "outputs": [
    {
     "name": "stdout",
     "output_type": "stream",
     "text": [
      "....................................................\n"
     ]
    }
   ],
   "source": [
    "# DONE: Fit your HP Tuner\n",
    "# # s3://edgarin-mlend/prj-dogbreed/dogImages/\n",
    "predictor = tuner.fit({\n",
    "    'train': f'{data_s3_uri}/train',\n",
    "    'test': f'{data_s3_uri}/test',\n",
    "}) # DONE: Remember to include your data channels"
   ]
  },
  {
   "cell_type": "code",
   "execution_count": 5,
   "metadata": {},
   "outputs": [],
   "source": [
    "# To get the tuner 'offline' (another notebook session)\n",
    "tuner = HyperparameterTuner.attach('pytorch-training-220120-0318')"
   ]
  },
  {
   "cell_type": "code",
   "execution_count": 7,
   "metadata": {},
   "outputs": [
    {
     "name": "stdout",
     "output_type": "stream",
     "text": [
      "\n",
      "2022-01-20 08:34:15 Starting - Preparing the instances for training\n",
      "2022-01-20 08:34:15 Downloading - Downloading input data\n",
      "2022-01-20 08:34:15 Training - Training image download completed. Training in progress.\n",
      "2022-01-20 08:34:15 Uploading - Uploading generated training model\n",
      "2022-01-20 08:34:15 Completed - Training job completed\n"
     ]
    },
    {
     "data": {
      "text/plain": [
       "{'_tuning_objective_metric': '\"Average test accuracy\"',\n",
       " 'batch-size': '\"128\"',\n",
       " 'epochs': '5',\n",
       " 'lr': '0.002528913920826402',\n",
       " 'sagemaker_container_log_level': '20',\n",
       " 'sagemaker_estimator_class_name': '\"PyTorch\"',\n",
       " 'sagemaker_estimator_module': '\"sagemaker.pytorch.estimator\"',\n",
       " 'sagemaker_job_name': '\"pytorch-training-2022-01-20-03-18-30-959\"',\n",
       " 'sagemaker_program': '\"hpo.py\"',\n",
       " 'sagemaker_region': '\"us-east-1\"',\n",
       " 'sagemaker_submit_directory': '\"s3://sagemaker-us-east-1-784712499272/pytorch-training-2022-01-20-03-18-30-959/source/sourcedir.tar.gz\"'}"
      ]
     },
     "execution_count": 7,
     "metadata": {},
     "output_type": "execute_result"
    }
   ],
   "source": [
    "# DONE: Get the best estimators and the best HPs\n",
    "\n",
    "best_estimator = tuner.best_estimator()\n",
    "\n",
    "#Get the hyperparameters of the best trained model\n",
    "best_estimator.hyperparameters()"
   ]
  },
  {
   "cell_type": "markdown",
   "metadata": {},
   "source": [
    "## Model Profiling and Debugging\n",
    "TODO: Using the best hyperparameters, create and finetune a new model\n",
    "\n",
    "**Note:** You will need to use the `train_model.py` script to perform model profiling and debugging."
   ]
  },
  {
   "cell_type": "code",
   "execution_count": 5,
   "metadata": {},
   "outputs": [],
   "source": [
    "# DONE: Set up debugging and profiling rules and hooks\n",
    "from sagemaker.debugger import Rule, ProfilerRule, rule_configs\n",
    "\n",
    "rules = [\n",
    "    # Rule.sagemaker(rule_configs.vanishing_gradient()),\n",
    "    Rule.sagemaker(rule_configs.overfit()),\n",
    "    # Rule.sagemaker(rule_configs.overtraining()),\n",
    "    # Rule.sagemaker(rule_configs.poor_weight_initialization()),\n",
    "    # Rule.sagemaker(rule_configs.loss_not_decreasing()),    \n",
    "    # ProfilerRule.sagemaker(rule_configs.LowGPUUtilization()),\n",
    "    ProfilerRule.sagemaker(rule_configs.ProfilerReport()),\n",
    "]\n",
    "\n",
    "from sagemaker.debugger import DebuggerHookConfig, ProfilerConfig, FrameworkProfile, CollectionConfig\n",
    "\n",
    "# create the profiler and debugger configs\n",
    "profiler_config = ProfilerConfig(\n",
    "    system_monitor_interval_millis=500,\n",
    "    framework_profile_params=FrameworkProfile(num_steps=10)\n",
    ")\n",
    "debugger_config = DebuggerHookConfig(\n",
    "    hook_parameters={\n",
    "        'train.save_internal': '1', # Was 10\n",
    "        'eval.save_internal': '1'\n",
    "    },\n",
    "    collection_configs=[\n",
    "        # CollectionConfig(name=\"weights\"),\n",
    "        # CollectionConfig(name=\"gradients\"),\n",
    "        CollectionConfig(name=\"losses\"),\n",
    "        # CollectionConfig(name=\"biases\")\n",
    "    ]\n",
    ")"
   ]
  },
  {
   "cell_type": "code",
   "execution_count": 7,
   "metadata": {},
   "outputs": [],
   "source": [
    "# Got values from HPO\n",
    "best_hyperparameters = {\n",
    "    'batch-size': 128,\n",
    "    'epochs': 5,\n",
    "    'lr': 0.0025\n",
    "}\n",
    "best_hyperparameters = {\n",
    "    'batch-size': 64,\n",
    "    'epochs': 2,\n",
    "    'lr': 0.0025\n",
    "}"
   ]
  },
  {
   "cell_type": "code",
   "execution_count": null,
   "metadata": {},
   "outputs": [
    {
     "name": "stdout",
     "output_type": "stream",
     "text": [
      "2022-01-22 01:07:43 Starting - Starting the training job..."
     ]
    }
   ],
   "source": [
    "# DONE: Create and fit an estimator\n",
    "import sagemaker\n",
    "from sagemaker.pytorch import PyTorch\n",
    "\n",
    "estimator = PyTorch(\n",
    "  base_job_name='prj-dogbreed-trjob',\n",
    "  role=sagemaker.get_execution_role(),\n",
    "  instance_type='ml.m5.large',    \n",
    "  #instance_type='ml.p3.2xlarge',\n",
    "  instance_count=1,\n",
    "  entry_point='./train_model.py',\n",
    "  framework_version='1.8',\n",
    "  py_version='py36',\n",
    "  hyperparameters=best_hyperparameters,  \n",
    "  rules=rules,\n",
    "  debugger_hook_config=debugger_config,\n",
    "  profiler_config=profiler_config  \n",
    ")\n",
    "\n",
    "estimator.fit({\n",
    "    'train': f'{data_s3_uri}/valid',\n",
    "    'test': f'{data_s3_uri}/test',\n",
    "}, wait=True)"
   ]
  },
  {
   "cell_type": "code",
   "execution_count": null,
   "metadata": {},
   "outputs": [],
   "source": [
    "# estimator = PyTorch.attach('prj-dogbreed-trjob-2022-01-21-20-07-42-574', sagemaker_session)"
   ]
  },
  {
   "cell_type": "code",
   "execution_count": null,
   "metadata": {},
   "outputs": [],
   "source": [
    "# TODO: Plot a debugging output.\n",
    "from smdebug.trials import create_trial\n",
    "from smdebug.core.modes import ModeKeys\n",
    "\n",
    "trial = create_trial(estimator.latest_job_debugger_artifacts_path())\n",
    "trial"
   ]
  },
  {
   "cell_type": "code",
   "execution_count": null,
   "metadata": {},
   "outputs": [],
   "source": [
    "trial.tensor_names()"
   ]
  },
  {
   "cell_type": "code",
   "execution_count": null,
   "metadata": {},
   "outputs": [],
   "source": [
    "loss_tensor_name = \"NLLLoss_output_0\"\n",
    "train_datapoints = len(trial.tensor(loss_tensor_name).steps(mode=ModeKeys.TRAIN))\n",
    "eval_datapoints = len(trial.tensor(loss_tensor_name).steps(mode=ModeKeys.EVAL))\n",
    "print(train_datapoints, eval_datapoints)"
   ]
  },
  {
   "cell_type": "code",
   "execution_count": null,
   "metadata": {},
   "outputs": [],
   "source": [
    "for tensor_name in trial.tensor_names():\n",
    "    train_datapoints = len(trial.tensor(tensor_name).steps(mode=ModeKeys.TRAIN))\n",
    "    eval_datapoints = len(trial.tensor(tensor_name).steps(mode=ModeKeys.EVAL))\n",
    "    print(tensor_name, train_datapoints, eval_datapoints)"
   ]
  },
  {
   "cell_type": "code",
   "execution_count": 63,
   "metadata": {},
   "outputs": [],
   "source": [
    "def get_data(trial, tname, mode):\n",
    "    tensor = trial.tensor(tname)\n",
    "    steps = tensor.steps(mode=mode)\n",
    "    vals = []\n",
    "    for s in steps:\n",
    "        vals.append(tensor.value(s, mode=mode))\n",
    "    return steps, vals\n",
    "\n",
    "import matplotlib.pyplot as plt\n",
    "from mpl_toolkits.axes_grid1 import host_subplot\n",
    "\n",
    "\n",
    "def plot_tensor(trial, tensor_name):\n",
    "\n",
    "    steps_train, vals_train = get_data(trial, tensor_name, mode=ModeKeys.TRAIN)\n",
    "    print(\"loaded TRAIN data\")\n",
    "    steps_eval, vals_eval = get_data(trial, tensor_name, mode=ModeKeys.EVAL)\n",
    "    print(\"loaded EVAL data\")\n",
    "\n",
    "    fig = plt.figure(figsize=(10, 7))\n",
    "    host = host_subplot(111)\n",
    "\n",
    "    par = host.twiny()\n",
    "\n",
    "    host.set_xlabel(\"Steps (TRAIN)\")\n",
    "    par.set_xlabel(\"Steps (EVAL)\")\n",
    "    host.set_ylabel(tensor_name)\n",
    "\n",
    "    (p1,) = host.plot(steps_train, vals_train, label=tensor_name)\n",
    "    print(\"completed TRAIN plot\")\n",
    "    (p2,) = par.plot(steps_eval, vals_eval, label=\"val_\" + tensor_name)\n",
    "    print(\"completed EVAL plot\")\n",
    "    leg = plt.legend()\n",
    "\n",
    "    host.xaxis.get_label().set_color(p1.get_color())\n",
    "    leg.texts[0].set_color(p1.get_color())\n",
    "\n",
    "    par.xaxis.get_label().set_color(p2.get_color())\n",
    "    leg.texts[1].set_color(p2.get_color())\n",
    "\n",
    "    plt.ylabel(tensor_name)\n",
    "\n",
    "    plt.show()"
   ]
  },
  {
   "cell_type": "code",
   "execution_count": 22,
   "metadata": {},
   "outputs": [
    {
     "name": "stdout",
     "output_type": "stream",
     "text": [
      "loaded TRAIN data\n",
      "loaded EVAL data\n",
      "completed TRAIN plot\n",
      "completed EVAL plot\n"
     ]
    },
    {
     "data": {
      "image/png": "[encoded data removed]",
      "text/plain": [
       "<Figure size 720x504 with 1 Axes>"
      ]
     },
     "metadata": {
      "needs_background": "light"
     },
     "output_type": "display_data"
    }
   ],
   "source": [
    "plot_tensor(trial, loss_tensor_name)"
   ]
  },
  {
   "cell_type": "markdown",
   "metadata": {},
   "source": [
    "**TODO**: Is there some anomalous behaviour in your debugging output? If so, what is the error and how will you fix it?  \n",
    "**TODO**: If not, suppose there was an error. What would that error look like and how would you have fixed it?"
   ]
  },
  {
   "cell_type": "markdown",
   "metadata": {},
   "source": [
    "## Profiling"
   ]
  },
  {
   "cell_type": "code",
   "execution_count": 29,
   "metadata": {},
   "outputs": [
    {
     "name": "stdout",
     "output_type": "stream",
     "text": [
      "ProfilerConfig:{'S3OutputPath': 's3://sagemaker-us-east-1-784712499272/', 'ProfilingIntervalInMilliseconds': 500, 'ProfilingParameters': {'DataloaderProfilingConfig': '{\"StartStep\": 0, \"NumSteps\": 10, \"MetricsRegex\": \".*\", }', 'DetailedProfilingConfig': '{\"StartStep\": 0, \"NumSteps\": 10, }', 'FileOpenFailThreshold': '50', 'HorovodProfilingConfig': '{\"StartStep\": 0, \"NumSteps\": 10, }', 'LocalPath': '/opt/ml/output/profiler', 'PythonProfilingConfig': '{\"StartStep\": 0, \"NumSteps\": 10, \"ProfilerName\": \"cprofile\", \"cProfileTimer\": \"total_time\", }', 'RotateFileCloseIntervalInSeconds': '60', 'RotateMaxFileSizeInBytes': '10485760', 'SMDataParallelProfilingConfig': '{\"StartStep\": 0, \"NumSteps\": 10, }'}}\n",
      "s3 path:s3://sagemaker-us-east-1-784712499272/prj-dogbreed-trjob-2022-01-21-15-25-56-908/profiler-output\n",
      "\n",
      "\n",
      "Profiler data from system is available\n"
     ]
    }
   ],
   "source": [
    "# TODO: Display the profiler output\n",
    "from smdebug.profiler.analysis.notebook_utils.training_job import TrainingJob\n",
    "\n",
    "training_job_name = estimator.latest_training_job.job_name\n",
    "\n",
    "tj = TrainingJob(training_job_name, region = sagemaker_session.boto_region_name)\n",
    "tj.wait_for_sys_profiling_data_to_be_available()"
   ]
  },
  {
   "cell_type": "code",
   "execution_count": 30,
   "metadata": {},
   "outputs": [
    {
     "data": {
      "application/javascript": [
       "\n",
       "(function(root) {\n",
       "  function now() {\n",
       "    return new Date();\n",
       "  }\n",
       "\n",
       "  var force = true;\n",
       "\n",
       "  if (typeof root._bokeh_onload_callbacks === \"undefined\" || force === true) {\n",
       "    root._bokeh_onload_callbacks = [];\n",
       "    root._bokeh_is_loading = undefined;\n",
       "  }\n",
       "\n",
       "  var JS_MIME_TYPE = 'application/javascript';\n",
       "  var HTML_MIME_TYPE = 'text/html';\n",
       "  var EXEC_MIME_TYPE = 'application/vnd.bokehjs_exec.v0+json';\n",
       "  var CLASS_NAME = 'output_bokeh rendered_html';\n",
       "\n",
       "  /**\n",
       "   * Render data to the DOM node\n",
       "   */\n",
       "  function render(props, node) {\n",
       "    var script = document.createElement(\"script\");\n",
       "    node.appendChild(script);\n",
       "  }\n",
       "\n",
       "  /**\n",
       "   * Handle when an output is cleared or removed\n",
       "   */\n",
       "  function handleClearOutput(event, handle) {\n",
       "    var cell = handle.cell;\n",
       "\n",
       "    var id = cell.output_area._bokeh_element_id;\n",
       "    var server_id = cell.output_area._bokeh_server_id;\n",
       "    // Clean up Bokeh references\n",
       "    if (id != null && id in Bokeh.index) {\n",
       "      Bokeh.index[id].model.document.clear();\n",
       "      delete Bokeh.index[id];\n",
       "    }\n",
       "\n",
       "    if (server_id !== undefined) {\n",
       "      // Clean up Bokeh references\n",
       "      var cmd = \"from bokeh.io.state import curstate; print(curstate().uuid_to_server['\" + server_id + \"'].get_sessions()[0].document.roots[0]._id)\";\n",
       "      cell.notebook.kernel.execute(cmd, {\n",
       "        iopub: {\n",
       "          output: function(msg) {\n",
       "            var id = msg.content.text.trim();\n",
       "            if (id in Bokeh.index) {\n",
       "              Bokeh.index[id].model.document.clear();\n",
       "              delete Bokeh.index[id];\n",
       "            }\n",
       "          }\n",
       "        }\n",
       "      });\n",
       "      // Destroy server and session\n",
       "      var cmd = \"import bokeh.io.notebook as ion; ion.destroy_server('\" + server_id + \"')\";\n",
       "      cell.notebook.kernel.execute(cmd);\n",
       "    }\n",
       "  }\n",
       "\n",
       "  /**\n",
       "   * Handle when a new output is added\n",
       "   */\n",
       "  function handleAddOutput(event, handle) {\n",
       "    var output_area = handle.output_area;\n",
       "    var output = handle.output;\n",
       "\n",
       "    // limit handleAddOutput to display_data with EXEC_MIME_TYPE content only\n",
       "    if ((output.output_type != \"display_data\") || (!Object.prototype.hasOwnProperty.call(output.data, EXEC_MIME_TYPE))) {\n",
       "      return\n",
       "    }\n",
       "\n",
       "    var toinsert = output_area.element.find(\".\" + CLASS_NAME.split(' ')[0]);\n",
       "\n",
       "    if (output.metadata[EXEC_MIME_TYPE][\"id\"] !== undefined) {\n",
       "      toinsert[toinsert.length - 1].firstChild.textContent = output.data[JS_MIME_TYPE];\n",
       "      // store reference to embed id on output_area\n",
       "      output_area._bokeh_element_id = output.metadata[EXEC_MIME_TYPE][\"id\"];\n",
       "    }\n",
       "    if (output.metadata[EXEC_MIME_TYPE][\"server_id\"] !== undefined) {\n",
       "      var bk_div = document.createElement(\"div\");\n",
       "      bk_div.innerHTML = output.data[HTML_MIME_TYPE];\n",
       "      var script_attrs = bk_div.children[0].attributes;\n",
       "      for (var i = 0; i < script_attrs.length; i++) {\n",
       "        toinsert[toinsert.length - 1].firstChild.setAttribute(script_attrs[i].name, script_attrs[i].value);\n",
       "        toinsert[toinsert.length - 1].firstChild.textContent = bk_div.children[0].textContent\n",
       "      }\n",
       "      // store reference to server id on output_area\n",
       "      output_area._bokeh_server_id = output.metadata[EXEC_MIME_TYPE][\"server_id\"];\n",
       "    }\n",
       "  }\n",
       "\n",
       "  function register_renderer(events, OutputArea) {\n",
       "\n",
       "    function append_mime(data, metadata, element) {\n",
       "      // create a DOM node to render to\n",
       "      var toinsert = this.create_output_subarea(\n",
       "        metadata,\n",
       "        CLASS_NAME,\n",
       "        EXEC_MIME_TYPE\n",
       "      );\n",
       "      this.keyboard_manager.register_events(toinsert);\n",
       "      // Render to node\n",
       "      var props = {data: data, metadata: metadata[EXEC_MIME_TYPE]};\n",
       "      render(props, toinsert[toinsert.length - 1]);\n",
       "      element.append(toinsert);\n",
       "      return toinsert\n",
       "    }\n",
       "\n",
       "    /* Handle when an output is cleared or removed */\n",
       "    events.on('clear_output.CodeCell', handleClearOutput);\n",
       "    events.on('delete.Cell', handleClearOutput);\n",
       "\n",
       "    /* Handle when a new output is added */\n",
       "    events.on('output_added.OutputArea', handleAddOutput);\n",
       "\n",
       "    /**\n",
       "     * Register the mime type and append_mime function with output_area\n",
       "     */\n",
       "    OutputArea.prototype.register_mime_type(EXEC_MIME_TYPE, append_mime, {\n",
       "      /* Is output safe? */\n",
       "      safe: true,\n",
       "      /* Index of renderer in `output_area.display_order` */\n",
       "      index: 0\n",
       "    });\n",
       "  }\n",
       "\n",
       "  // register the mime type if in Jupyter Notebook environment and previously unregistered\n",
       "  if (root.Jupyter !== undefined) {\n",
       "    var events = require('base/js/events');\n",
       "    var OutputArea = require('notebook/js/outputarea').OutputArea;\n",
       "\n",
       "    if (OutputArea.prototype.mime_types().indexOf(EXEC_MIME_TYPE) == -1) {\n",
       "      register_renderer(events, OutputArea);\n",
       "    }\n",
       "  }\n",
       "\n",
       "  \n",
       "  if (typeof (root._bokeh_timeout) === \"undefined\" || force === true) {\n",
       "    root._bokeh_timeout = Date.now() + 5000;\n",
       "    root._bokeh_failed_load = false;\n",
       "  }\n",
       "\n",
       "  var NB_LOAD_WARNING = {'data': {'text/html':\n",
       "     \"<div style='background-color: #fdd'>\\n\"+\n",
       "     \"<p>\\n\"+\n",
       "     \"BokehJS does not appear to have successfully loaded. If loading BokehJS from CDN, this \\n\"+\n",
       "     \"may be due to a slow or bad network connection. Possible fixes:\\n\"+\n",
       "     \"</p>\\n\"+\n",
       "     \"<ul>\\n\"+\n",
       "     \"<li>re-rerun `output_notebook()` to attempt to load from CDN again, or</li>\\n\"+\n",
       "     \"<li>use INLINE resources instead, as so:</li>\\n\"+\n",
       "     \"</ul>\\n\"+\n",
       "     \"<code>\\n\"+\n",
       "     \"from bokeh.resources import INLINE\\n\"+\n",
       "     \"output_notebook(resources=INLINE)\\n\"+\n",
       "     \"</code>\\n\"+\n",
       "     \"</div>\"}};\n",
       "\n",
       "  function display_loaded() {\n",
       "    var el = document.getElementById(null);\n",
       "    if (el != null) {\n",
       "      el.textContent = \"BokehJS is loading...\";\n",
       "    }\n",
       "    if (root.Bokeh !== undefined) {\n",
       "      if (el != null) {\n",
       "        el.textContent = \"BokehJS \" + root.Bokeh.version + \" successfully loaded.\";\n",
       "      }\n",
       "    } else if (Date.now() < root._bokeh_timeout) {\n",
       "      setTimeout(display_loaded, 100)\n",
       "    }\n",
       "  }\n",
       "\n",
       "\n",
       "  function run_callbacks() {\n",
       "    try {\n",
       "      root._bokeh_onload_callbacks.forEach(function(callback) {\n",
       "        if (callback != null)\n",
       "          callback();\n",
       "      });\n",
       "    } finally {\n",
       "      delete root._bokeh_onload_callbacks\n",
       "    }\n",
       "    console.debug(\"Bokeh: all callbacks have finished\");\n",
       "  }\n",
       "\n",
       "  function load_libs(css_urls, js_urls, callback) {\n",
       "    if (css_urls == null) css_urls = [];\n",
       "    if (js_urls == null) js_urls = [];\n",
       "\n",
       "    root._bokeh_onload_callbacks.push(callback);\n",
       "    if (root._bokeh_is_loading > 0) {\n",
       "      console.debug(\"Bokeh: BokehJS is being loaded, scheduling callback at\", now());\n",
       "      return null;\n",
       "    }\n",
       "    if (js_urls == null || js_urls.length === 0) {\n",
       "      run_callbacks();\n",
       "      return null;\n",
       "    }\n",
       "    console.debug(\"Bokeh: BokehJS not loaded, scheduling load and callback at\", now());\n",
       "    root._bokeh_is_loading = css_urls.length + js_urls.length;\n",
       "\n",
       "    function on_load() {\n",
       "      root._bokeh_is_loading--;\n",
       "      if (root._bokeh_is_loading === 0) {\n",
       "        console.debug(\"Bokeh: all BokehJS libraries/stylesheets loaded\");\n",
       "        run_callbacks()\n",
       "      }\n",
       "    }\n",
       "\n",
       "    function on_error(url) {\n",
       "      console.error(\"failed to load \" + url);\n",
       "    }\n",
       "\n",
       "    for (let i = 0; i < css_urls.length; i++) {\n",
       "      const url = css_urls[i];\n",
       "      const element = document.createElement(\"link\");\n",
       "      element.onload = on_load;\n",
       "      element.onerror = on_error.bind(null, url);\n",
       "      element.rel = \"stylesheet\";\n",
       "      element.type = \"text/css\";\n",
       "      element.href = url;\n",
       "      console.debug(\"Bokeh: injecting link tag for BokehJS stylesheet: \", url);\n",
       "      document.body.appendChild(element);\n",
       "    }\n",
       "\n",
       "    const hashes = {\"https://cdn.bokeh.org/bokeh/release/bokeh-2.3.3.min.js\": \"dM3QQsP+wXdHg42wTqW85BjZQdLNNIXqlPw/BgKoExPmTG7ZLML4EGqLMfqHT6ON\", \"https://cdn.bokeh.org/bokeh/release/bokeh-tables-2.3.3.min.js\": \"8x57I4YuIfu8XyZfFo0XVr2WAT8EK4rh/uDe3wF7YuW2FNUSNEpJbsPaB1nJ2fz2\", \"https://cdn.bokeh.org/bokeh/release/bokeh-widgets-2.3.3.min.js\": \"3QTqdz9LyAm2i0sG5XTePsHec3UHWwVsrOL68SYRoAXsafvfAyqtQ+h440+qIBhS\"};\n",
       "\n",
       "    for (let i = 0; i < js_urls.length; i++) {\n",
       "      const url = js_urls[i];\n",
       "      const element = document.createElement('script');\n",
       "      element.onload = on_load;\n",
       "      element.onerror = on_error.bind(null, url);\n",
       "      element.async = false;\n",
       "      element.src = url;\n",
       "      if (url in hashes) {\n",
       "        element.crossOrigin = \"anonymous\";\n",
       "        element.integrity = \"sha384-\" + hashes[url];\n",
       "      }\n",
       "      console.debug(\"Bokeh: injecting script tag for BokehJS library: \", url);\n",
       "      document.head.appendChild(element);\n",
       "    }\n",
       "  };\n",
       "\n",
       "  function inject_raw_css(css) {\n",
       "    const element = document.createElement(\"style\");\n",
       "    element.appendChild(document.createTextNode(css));\n",
       "    document.body.appendChild(element);\n",
       "  }\n",
       "\n",
       "  \n",
       "  var js_urls = [\"https://cdn.bokeh.org/bokeh/release/bokeh-2.3.3.min.js\", \"https://cdn.bokeh.org/bokeh/release/bokeh-widgets-2.3.3.min.js\", \"https://cdn.bokeh.org/bokeh/release/bokeh-tables-2.3.3.min.js\"];\n",
       "  var css_urls = [];\n",
       "  \n",
       "\n",
       "  var inline_js = [\n",
       "    function(Bokeh) {\n",
       "      Bokeh.set_log_level(\"info\");\n",
       "    },\n",
       "    function(Bokeh) {\n",
       "    \n",
       "    \n",
       "    }\n",
       "  ];\n",
       "\n",
       "  function run_inline_js() {\n",
       "    \n",
       "    if (root.Bokeh !== undefined || force === true) {\n",
       "      \n",
       "    for (var i = 0; i < inline_js.length; i++) {\n",
       "      inline_js[i].call(root, root.Bokeh);\n",
       "    }\n",
       "    } else if (Date.now() < root._bokeh_timeout) {\n",
       "      setTimeout(run_inline_js, 100);\n",
       "    } else if (!root._bokeh_failed_load) {\n",
       "      console.log(\"Bokeh: BokehJS failed to load within specified timeout.\");\n",
       "      root._bokeh_failed_load = true;\n",
       "    } else if (force !== true) {\n",
       "      var cell = $(document.getElementById(null)).parents('.cell').data().cell;\n",
       "      cell.output_area.append_execute_result(NB_LOAD_WARNING)\n",
       "    }\n",
       "\n",
       "  }\n",
       "\n",
       "  if (root._bokeh_is_loading === 0) {\n",
       "    console.debug(\"Bokeh: BokehJS loaded, going straight to plotting\");\n",
       "    run_inline_js();\n",
       "  } else {\n",
       "    load_libs(css_urls, js_urls, function() {\n",
       "      console.debug(\"Bokeh: BokehJS plotting callback run at\", now());\n",
       "      run_inline_js();\n",
       "    });\n",
       "  }\n",
       "}(window));"
      ],
      "application/vnd.bokehjs_load.v0+json": "\n(function(root) {\n  function now() {\n    return new Date();\n  }\n\n  var force = true;\n\n  if (typeof root._bokeh_onload_callbacks === \"undefined\" || force === true) {\n    root._bokeh_onload_callbacks = [];\n    root._bokeh_is_loading = undefined;\n  }\n\n  \n\n  \n  if (typeof (root._bokeh_timeout) === \"undefined\" || force === true) {\n    root._bokeh_timeout = Date.now() + 5000;\n    root._bokeh_failed_load = false;\n  }\n\n  var NB_LOAD_WARNING = {'data': {'text/html':\n     \"<div style='background-color: #fdd'>\\n\"+\n     \"<p>\\n\"+\n     \"BokehJS does not appear to have successfully loaded. If loading BokehJS from CDN, this \\n\"+\n     \"may be due to a slow or bad network connection. Possible fixes:\\n\"+\n     \"</p>\\n\"+\n     \"<ul>\\n\"+\n     \"<li>re-rerun `output_notebook()` to attempt to load from CDN again, or</li>\\n\"+\n     \"<li>use INLINE resources instead, as so:</li>\\n\"+\n     \"</ul>\\n\"+\n     \"<code>\\n\"+\n     \"from bokeh.resources import INLINE\\n\"+\n     \"output_notebook(resources=INLINE)\\n\"+\n     \"</code>\\n\"+\n     \"</div>\"}};\n\n  function display_loaded() {\n    var el = document.getElementById(null);\n    if (el != null) {\n      el.textContent = \"BokehJS is loading...\";\n    }\n    if (root.Bokeh !== undefined) {\n      if (el != null) {\n        el.textContent = \"BokehJS \" + root.Bokeh.version + \" successfully loaded.\";\n      }\n    } else if (Date.now() < root._bokeh_timeout) {\n      setTimeout(display_loaded, 100)\n    }\n  }\n\n\n  function run_callbacks() {\n    try {\n      root._bokeh_onload_callbacks.forEach(function(callback) {\n        if (callback != null)\n          callback();\n      });\n    } finally {\n      delete root._bokeh_onload_callbacks\n    }\n    console.debug(\"Bokeh: all callbacks have finished\");\n  }\n\n  function load_libs(css_urls, js_urls, callback) {\n    if (css_urls == null) css_urls = [];\n    if (js_urls == null) js_urls = [];\n\n    root._bokeh_onload_callbacks.push(callback);\n    if (root._bokeh_is_loading > 0) {\n      console.debug(\"Bokeh: BokehJS is being loaded, scheduling callback at\", now());\n      return null;\n    }\n    if (js_urls == null || js_urls.length === 0) {\n      run_callbacks();\n      return null;\n    }\n    console.debug(\"Bokeh: BokehJS not loaded, scheduling load and callback at\", now());\n    root._bokeh_is_loading = css_urls.length + js_urls.length;\n\n    function on_load() {\n      root._bokeh_is_loading--;\n      if (root._bokeh_is_loading === 0) {\n        console.debug(\"Bokeh: all BokehJS libraries/stylesheets loaded\");\n        run_callbacks()\n      }\n    }\n\n    function on_error(url) {\n      console.error(\"failed to load \" + url);\n    }\n\n    for (let i = 0; i < css_urls.length; i++) {\n      const url = css_urls[i];\n      const element = document.createElement(\"link\");\n      element.onload = on_load;\n      element.onerror = on_error.bind(null, url);\n      element.rel = \"stylesheet\";\n      element.type = \"text/css\";\n      element.href = url;\n      console.debug(\"Bokeh: injecting link tag for BokehJS stylesheet: \", url);\n      document.body.appendChild(element);\n    }\n\n    const hashes = {\"https://cdn.bokeh.org/bokeh/release/bokeh-2.3.3.min.js\": \"dM3QQsP+wXdHg42wTqW85BjZQdLNNIXqlPw/BgKoExPmTG7ZLML4EGqLMfqHT6ON\", \"https://cdn.bokeh.org/bokeh/release/bokeh-tables-2.3.3.min.js\": \"8x57I4YuIfu8XyZfFo0XVr2WAT8EK4rh/uDe3wF7YuW2FNUSNEpJbsPaB1nJ2fz2\", \"https://cdn.bokeh.org/bokeh/release/bokeh-widgets-2.3.3.min.js\": \"3QTqdz9LyAm2i0sG5XTePsHec3UHWwVsrOL68SYRoAXsafvfAyqtQ+h440+qIBhS\"};\n\n    for (let i = 0; i < js_urls.length; i++) {\n      const url = js_urls[i];\n      const element = document.createElement('script');\n      element.onload = on_load;\n      element.onerror = on_error.bind(null, url);\n      element.async = false;\n      element.src = url;\n      if (url in hashes) {\n        element.crossOrigin = \"anonymous\";\n        element.integrity = \"sha384-\" + hashes[url];\n      }\n      console.debug(\"Bokeh: injecting script tag for BokehJS library: \", url);\n      document.head.appendChild(element);\n    }\n  };\n\n  function inject_raw_css(css) {\n    const element = document.createElement(\"style\");\n    element.appendChild(document.createTextNode(css));\n    document.body.appendChild(element);\n  }\n\n  \n  var js_urls = [\"https://cdn.bokeh.org/bokeh/release/bokeh-2.3.3.min.js\", \"https://cdn.bokeh.org/bokeh/release/bokeh-widgets-2.3.3.min.js\", \"https://cdn.bokeh.org/bokeh/release/bokeh-tables-2.3.3.min.js\"];\n  var css_urls = [];\n  \n\n  var inline_js = [\n    function(Bokeh) {\n      Bokeh.set_log_level(\"info\");\n    },\n    function(Bokeh) {\n    \n    \n    }\n  ];\n\n  function run_inline_js() {\n    \n    if (root.Bokeh !== undefined || force === true) {\n      \n    for (var i = 0; i < inline_js.length; i++) {\n      inline_js[i].call(root, root.Bokeh);\n    }\n    } else if (Date.now() < root._bokeh_timeout) {\n      setTimeout(run_inline_js, 100);\n    } else if (!root._bokeh_failed_load) {\n      console.log(\"Bokeh: BokehJS failed to load within specified timeout.\");\n      root._bokeh_failed_load = true;\n    } else if (force !== true) {\n      var cell = $(document.getElementById(null)).parents('.cell').data().cell;\n      cell.output_area.append_execute_result(NB_LOAD_WARNING)\n    }\n\n  }\n\n  if (root._bokeh_is_loading === 0) {\n    console.debug(\"Bokeh: BokehJS loaded, going straight to plotting\");\n    run_inline_js();\n  } else {\n    load_libs(css_urls, js_urls, function() {\n      console.debug(\"Bokeh: BokehJS plotting callback run at\", now());\n      run_inline_js();\n    });\n  }\n}(window));"
     },
     "metadata": {},
     "output_type": "display_data"
    },
    {
     "name": "stdout",
     "output_type": "stream",
     "text": [
      "[2022-01-21 16:00:13.073 1-8-1-cpu-py36-ml-t3-medium-05a4a7868130c7575335c53b16c7:38 INFO metrics_reader_base.py:134] Getting 28 event files\n",
      "select events:['total']\n",
      "select dimensions:['CPU', 'GPU']\n",
      "filtered_events:{'total'}\n",
      "filtered_dimensions:{'CPUUtilization-nodeid:algo-1'}\n"
     ]
    },
    {
     "data": {
      "text/html": [
       "\n",
       "\n",
       "\n",
       "\n",
       "\n",
       "\n",
       "  <div class=\"bk-root\" id=\"756b3b8c-8860-484f-b170-57c17fd27c53\" data-root-id=\"1045\"></div>\n"
      ]
     },
     "metadata": {},
     "output_type": "display_data"
    },
    {
     "data": {
      "application/javascript": [
       "(function(root) {\n",
       "  function embed_document(root) {\n",
       "    \n",
       "  var docs_json = {\"a4b3e15b-dcc8-4324-af5d-179a69b64316\":{\"defs\":[],\"roots\":{\"references\":[{\"attributes\":{\"children\":[{\"id\":\"1044\"},{\"id\":\"1002\"}]},\"id\":\"1045\",\"type\":\"Row\"},{\"attributes\":{},\"id\":\"1054\",\"type\":\"Selection\"},{\"attributes\":{\"source\":{\"id\":\"1034\"}},\"id\":\"1039\",\"type\":\"CDSView\"},{\"attributes\":{},\"id\":\"1055\",\"type\":\"UnionRenderers\"},{\"attributes\":{\"axis\":{\"id\":\"1016\"},\"dimension\":1,\"ticker\":null,\"visible\":false},\"id\":\"1019\",\"type\":\"Grid\"},{\"attributes\":{\"data_source\":{\"id\":\"1034\"},\"glyph\":{\"id\":\"1037\"},\"hover_glyph\":null,\"muted_glyph\":null,\"view\":{\"id\":\"1041\"}},\"id\":\"1040\",\"type\":\"GlyphRenderer\"},{\"attributes\":{\"data_source\":{\"id\":\"1034\"},\"glyph\":{\"id\":\"1036\"},\"hover_glyph\":null,\"muted_glyph\":null,\"view\":{\"id\":\"1039\"}},\"id\":\"1038\",\"type\":\"GlyphRenderer\"},{\"attributes\":{},\"id\":\"1046\",\"type\":\"Title\"},{\"attributes\":{\"below\":[{\"id\":\"1012\"}],\"center\":[{\"id\":\"1015\"},{\"id\":\"1019\"}],\"height\":200,\"js_event_callbacks\":{\"selectiongeometry\":[{\"id\":\"1035\"}]},\"left\":[{\"id\":\"1016\"}],\"renderers\":[{\"id\":\"1038\"},{\"id\":\"1040\"}],\"title\":{\"id\":\"1046\"},\"toolbar\":{\"id\":\"1027\"},\"width\":1000,\"x_range\":{\"id\":\"1004\"},\"x_scale\":{\"id\":\"1008\"},\"y_range\":{\"id\":\"1006\"},\"y_scale\":{\"id\":\"1010\"}},\"id\":\"1003\",\"subtype\":\"Figure\",\"type\":\"Plot\"},{\"attributes\":{\"axis\":{\"id\":\"1012\"},\"ticker\":null,\"visible\":false},\"id\":\"1015\",\"type\":\"Grid\"},{\"attributes\":{\"data\":{\"x\":{\"__ndarray__\":\"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\",\"dtype\":\"float64\",\"order\":\"little\",\"shape\":[3138]},\"y\":{\"__ndarray__\":\"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\",\"dtype\":\"float64\",\"order\":\"little\",\"shape\":[3138]}},\"selected\":{\"id\":\"1054\"},\"selection_policy\":{\"id\":\"1055\"}},\"id\":\"1034\",\"type\":\"ColumnDataSource\"},{\"attributes\":{},\"id\":\"1051\",\"type\":\"BasicTickFormatter\"},{\"attributes\":{\"height\":100,\"height_policy\":\"fixed\",\"width\":250},\"id\":\"1002\",\"type\":\"Div\"},{\"attributes\":{\"bottom_units\":\"screen\",\"fill_alpha\":0.5,\"fill_color\":\"lightgrey\",\"left_units\":\"screen\",\"level\":\"overlay\",\"line_alpha\":1.0,\"line_color\":\"black\",\"line_dash\":[4,4],\"line_width\":2,\"right_units\":\"screen\",\"syncable\":false,\"top_units\":\"screen\"},\"id\":\"1026\",\"type\":\"BoxAnnotation\"},{\"attributes\":{\"callback\":null,\"renderers\":[{\"id\":\"1040\"}],\"tooltips\":[[\"index\",\"$index\"],[\"(x,y)\",\"($x, $y)\"]]},\"id\":\"1042\",\"type\":\"HoverTool\"},{\"attributes\":{\"end\":1642780499.801067,\"start\":1642779999.800826},\"id\":\"1004\",\"type\":\"Range1d\"},{\"attributes\":{\"fill_alpha\":{\"value\":0},\"line_width\":{\"value\":0},\"x\":{\"field\":\"x\"},\"y\":{\"field\":\"y\"}},\"id\":\"1037\",\"type\":\"Circle\"},{\"attributes\":{},\"id\":\"1010\",\"type\":\"LinearScale\"},{\"attributes\":{},\"id\":\"1008\",\"type\":\"LinearScale\"},{\"attributes\":{},\"id\":\"1052\",\"type\":\"AllLabels\"},{\"attributes\":{\"axis_label\":\"Time in ms\",\"formatter\":{\"id\":\"1048\"},\"major_label_policy\":{\"id\":\"1049\"},\"ticker\":{\"id\":\"1013\"}},\"id\":\"1012\",\"type\":\"LinearAxis\"},{\"attributes\":{\"active_multi\":null,\"tools\":[{\"id\":\"1020\"},{\"id\":\"1021\"},{\"id\":\"1022\"},{\"id\":\"1023\"},{\"id\":\"1024\"},{\"id\":\"1025\"},{\"id\":\"1042\"}]},\"id\":\"1027\",\"type\":\"Toolbar\"},{\"attributes\":{},\"id\":\"1013\",\"type\":\"BasicTicker\"},{\"attributes\":{\"line_color\":\"blue\",\"x\":{\"field\":\"x\"},\"y\":{\"field\":\"y\"}},\"id\":\"1036\",\"type\":\"Line\"},{\"attributes\":{},\"id\":\"1049\",\"type\":\"AllLabels\"},{\"attributes\":{},\"id\":\"1023\",\"type\":\"ResetTool\"},{\"attributes\":{},\"id\":\"1017\",\"type\":\"BasicTicker\"},{\"attributes\":{\"end\":102},\"id\":\"1006\",\"type\":\"Range1d\"},{\"attributes\":{\"children\":[{\"id\":\"1003\"}]},\"id\":\"1044\",\"type\":\"Column\"},{\"attributes\":{},\"id\":\"1024\",\"type\":\"SaveTool\"},{\"attributes\":{\"args\":{\"div\":{\"id\":\"1002\"},\"s1\":{\"id\":\"1034\"}},\"code\":\"\\n                            console.log('Running CustomJS callback now.');\\n                            var inds = s1.selected.indices;\\n                            console.log(inds);\\n                            var line = \\\"<span style=float:left;clear:left;font_size=13px><b> Selected index range: [\\\" + Math.min.apply(Math,inds) + \\\",\\\" + Math.max.apply(Math,inds) + \\\"]</b></span>\\\\n\\\";\\n                            console.log(line)\\n                            var text = div.text.concat(line);\\n                            var lines = text.split(\\\"\\\\n\\\")\\n                            if (lines.length > 35)\\n                                lines.shift();\\n                            div.text = lines.join(\\\"\\\\n\\\");\"},\"id\":\"1035\",\"type\":\"CustomJS\"},{\"attributes\":{\"source\":{\"id\":\"1034\"}},\"id\":\"1041\",\"type\":\"CDSView\"},{\"attributes\":{},\"id\":\"1020\",\"type\":\"CrosshairTool\"},{\"attributes\":{\"dimensions\":\"width\",\"overlay\":{\"id\":\"1026\"}},\"id\":\"1021\",\"type\":\"BoxSelectTool\"},{\"attributes\":{},\"id\":\"1048\",\"type\":\"BasicTickFormatter\"},{\"attributes\":{\"dimensions\":\"width\"},\"id\":\"1025\",\"type\":\"WheelZoomTool\"},{\"attributes\":{},\"id\":\"1022\",\"type\":\"PanTool\"},{\"attributes\":{\"axis_label\":\"CPUUtilization-nodeid:algo-1_total\",\"formatter\":{\"id\":\"1051\"},\"major_label_policy\":{\"id\":\"1052\"},\"ticker\":{\"id\":\"1017\"}},\"id\":\"1016\",\"type\":\"LinearAxis\"}],\"root_ids\":[\"1045\"]},\"title\":\"Bokeh Application\",\"version\":\"2.3.3\"}};\n",
       "  var render_items = [{\"docid\":\"a4b3e15b-dcc8-4324-af5d-179a69b64316\",\"notebook_comms_target\":\"1057\",\"root_ids\":[\"1045\"],\"roots\":{\"1045\":\"756b3b8c-8860-484f-b170-57c17fd27c53\"}}];\n",
       "  root.Bokeh.embed.embed_items_notebook(docs_json, render_items);\n",
       "\n",
       "  }\n",
       "  if (root.Bokeh !== undefined) {\n",
       "    embed_document(root);\n",
       "  } else {\n",
       "    var attempts = 0;\n",
       "    var timer = setInterval(function(root) {\n",
       "      if (root.Bokeh !== undefined) {\n",
       "        clearInterval(timer);\n",
       "        embed_document(root);\n",
       "      } else {\n",
       "        attempts++;\n",
       "        if (attempts > 100) {\n",
       "          clearInterval(timer);\n",
       "          console.log(\"Bokeh: ERROR: Unable to run BokehJS code because BokehJS library is missing\");\n",
       "        }\n",
       "      }\n",
       "    }, 10, root)\n",
       "  }\n",
       "})(window);"
      ],
      "application/vnd.bokehjs_exec.v0+json": ""
     },
     "metadata": {
      "application/vnd.bokehjs_exec.v0+json": {
       "id": "1045"
      }
     },
     "output_type": "display_data"
    }
   ],
   "source": [
    "from smdebug.profiler.analysis.notebook_utils.timeline_charts import TimelineCharts\n",
    "\n",
    "system_metrics_reader = tj.get_systems_metrics_reader()\n",
    "system_metrics_reader.refresh_event_file_list()\n",
    "\n",
    "view_timeline_charts = TimelineCharts(\n",
    "    system_metrics_reader,\n",
    "    framework_metrics_reader=None,\n",
    "    select_dimensions=[\"CPU\", \"GPU\"],\n",
    "    select_events=[\"total\"],\n",
    ")"
   ]
  },
  {
   "cell_type": "code",
   "execution_count": 31,
   "metadata": {},
   "outputs": [
    {
     "name": "stdout",
     "output_type": "stream",
     "text": [
      "You will find the profiler report in s3://sagemaker-us-east-1-784712499272/prj-dogbreed-trjob-2022-01-21-15-25-56-908/rule-output\n"
     ]
    }
   ],
   "source": [
    "rule_output_path = estimator.output_path + estimator.latest_training_job.job_name + \"/rule-output\"\n",
    "print(f\"You will find the profiler report in {rule_output_path}\")"
   ]
  },
  {
   "cell_type": "code",
   "execution_count": 32,
   "metadata": {},
   "outputs": [
    {
     "name": "stdout",
     "output_type": "stream",
     "text": [
      "2022-01-21 15:55:35     364853 prj-dogbreed-trjob-2022-01-21-15-25-56-908/rule-output/ProfilerReport/profiler-output/profiler-report.html\n",
      "2022-01-21 15:55:35     211916 prj-dogbreed-trjob-2022-01-21-15-25-56-908/rule-output/ProfilerReport/profiler-output/profiler-report.ipynb\n",
      "2022-01-21 15:55:31        192 prj-dogbreed-trjob-2022-01-21-15-25-56-908/rule-output/ProfilerReport/profiler-output/profiler-reports/BatchSize.json\n",
      "2022-01-21 15:55:31        200 prj-dogbreed-trjob-2022-01-21-15-25-56-908/rule-output/ProfilerReport/profiler-output/profiler-reports/CPUBottleneck.json\n",
      "2022-01-21 15:55:31       2029 prj-dogbreed-trjob-2022-01-21-15-25-56-908/rule-output/ProfilerReport/profiler-output/profiler-reports/Dataloader.json\n",
      "2022-01-21 15:55:31        127 prj-dogbreed-trjob-2022-01-21-15-25-56-908/rule-output/ProfilerReport/profiler-output/profiler-reports/GPUMemoryIncrease.json\n",
      "2022-01-21 15:55:31        199 prj-dogbreed-trjob-2022-01-21-15-25-56-908/rule-output/ProfilerReport/profiler-output/profiler-reports/IOBottleneck.json\n",
      "2022-01-21 15:55:31        119 prj-dogbreed-trjob-2022-01-21-15-25-56-908/rule-output/ProfilerReport/profiler-output/profiler-reports/LoadBalancing.json\n",
      "2022-01-21 15:55:31        151 prj-dogbreed-trjob-2022-01-21-15-25-56-908/rule-output/ProfilerReport/profiler-output/profiler-reports/LowGPUUtilization.json\n",
      "2022-01-21 15:55:31        231 prj-dogbreed-trjob-2022-01-21-15-25-56-908/rule-output/ProfilerReport/profiler-output/profiler-reports/MaxInitializationTime.json\n",
      "2022-01-21 15:55:31       1083 prj-dogbreed-trjob-2022-01-21-15-25-56-908/rule-output/ProfilerReport/profiler-output/profiler-reports/OverallFrameworkMetrics.json\n",
      "2022-01-21 15:55:31        463 prj-dogbreed-trjob-2022-01-21-15-25-56-908/rule-output/ProfilerReport/profiler-output/profiler-reports/OverallSystemUsage.json\n",
      "2022-01-21 15:55:31        157 prj-dogbreed-trjob-2022-01-21-15-25-56-908/rule-output/ProfilerReport/profiler-output/profiler-reports/StepOutlier.json\n"
     ]
    }
   ],
   "source": [
    "! aws s3 ls {rule_output_path} --recursive"
   ]
  },
  {
   "cell_type": "code",
   "execution_count": 33,
   "metadata": {},
   "outputs": [
    {
     "name": "stdout",
     "output_type": "stream",
     "text": [
      "download: s3://sagemaker-us-east-1-784712499272/prj-dogbreed-trjob-2022-01-21-15-25-56-908/rule-output/ProfilerReport/profiler-output/profiler-reports/GPUMemoryIncrease.json to ProfilerReport/profiler-output/profiler-reports/GPUMemoryIncrease.json\n",
      "download: s3://sagemaker-us-east-1-784712499272/prj-dogbreed-trjob-2022-01-21-15-25-56-908/rule-output/ProfilerReport/profiler-output/profiler-reports/LoadBalancing.json to ProfilerReport/profiler-output/profiler-reports/LoadBalancing.json\n",
      "download: s3://sagemaker-us-east-1-784712499272/prj-dogbreed-trjob-2022-01-21-15-25-56-908/rule-output/ProfilerReport/profiler-output/profiler-reports/Dataloader.json to ProfilerReport/profiler-output/profiler-reports/Dataloader.json\n",
      "download: s3://sagemaker-us-east-1-784712499272/prj-dogbreed-trjob-2022-01-21-15-25-56-908/rule-output/ProfilerReport/profiler-output/profiler-reports/BatchSize.json to ProfilerReport/profiler-output/profiler-reports/BatchSize.json\n",
      "download: s3://sagemaker-us-east-1-784712499272/prj-dogbreed-trjob-2022-01-21-15-25-56-908/rule-output/ProfilerReport/profiler-output/profiler-reports/IOBottleneck.json to ProfilerReport/profiler-output/profiler-reports/IOBottleneck.json\n",
      "download: s3://sagemaker-us-east-1-784712499272/prj-dogbreed-trjob-2022-01-21-15-25-56-908/rule-output/ProfilerReport/profiler-output/profiler-report.ipynb to ProfilerReport/profiler-output/profiler-report.ipynb\n",
      "download: s3://sagemaker-us-east-1-784712499272/prj-dogbreed-trjob-2022-01-21-15-25-56-908/rule-output/ProfilerReport/profiler-output/profiler-reports/CPUBottleneck.json to ProfilerReport/profiler-output/profiler-reports/CPUBottleneck.json\n",
      "download: s3://sagemaker-us-east-1-784712499272/prj-dogbreed-trjob-2022-01-21-15-25-56-908/rule-output/ProfilerReport/profiler-output/profiler-reports/MaxInitializationTime.json to ProfilerReport/profiler-output/profiler-reports/MaxInitializationTime.json\n",
      "download: s3://sagemaker-us-east-1-784712499272/prj-dogbreed-trjob-2022-01-21-15-25-56-908/rule-output/ProfilerReport/profiler-output/profiler-reports/LowGPUUtilization.json to ProfilerReport/profiler-output/profiler-reports/LowGPUUtilization.json\n",
      "download: s3://sagemaker-us-east-1-784712499272/prj-dogbreed-trjob-2022-01-21-15-25-56-908/rule-output/ProfilerReport/profiler-output/profiler-reports/OverallSystemUsage.json to ProfilerReport/profiler-output/profiler-reports/OverallSystemUsage.json\n",
      "download: s3://sagemaker-us-east-1-784712499272/prj-dogbreed-trjob-2022-01-21-15-25-56-908/rule-output/ProfilerReport/profiler-output/profiler-reports/OverallFrameworkMetrics.json to ProfilerReport/profiler-output/profiler-reports/OverallFrameworkMetrics.json\n",
      "download: s3://sagemaker-us-east-1-784712499272/prj-dogbreed-trjob-2022-01-21-15-25-56-908/rule-output/ProfilerReport/profiler-output/profiler-report.html to ProfilerReport/profiler-output/profiler-report.html\n",
      "download: s3://sagemaker-us-east-1-784712499272/prj-dogbreed-trjob-2022-01-21-15-25-56-908/rule-output/ProfilerReport/profiler-output/profiler-reports/StepOutlier.json to ProfilerReport/profiler-output/profiler-reports/StepOutlier.json\n"
     ]
    }
   ],
   "source": [
    "! aws s3 cp {rule_output_path} ./ --recursive"
   ]
  },
  {
   "cell_type": "code",
   "execution_count": null,
   "metadata": {},
   "outputs": [],
   "source": [
    "import os\n",
    "\n",
    "# get the autogenerated folder name of profiler report\n",
    "profiler_report_name = [\n",
    "    rule[\"RuleConfigurationName\"]\n",
    "    for rule in estimator.latest_training_job.rule_job_summary()\n",
    "    if \"Profiler\" in rule[\"RuleConfigurationName\"]\n",
    "][0]"
   ]
  },
  {
   "cell_type": "code",
   "execution_count": null,
   "metadata": {},
   "outputs": [],
   "source": [
    "import IPython\n",
    "\n",
    "IPython.display.HTML(filename=profiler_report_name + \"/profiler-output/profiler-report.html\")"
   ]
  },
  {
   "cell_type": "markdown",
   "metadata": {},
   "source": [
    "## Model Deploying"
   ]
  },
  {
   "cell_type": "code",
   "execution_count": null,
   "metadata": {},
   "outputs": [],
   "source": [
    "# TODO: Deploy your model to an endpoint\n",
    "\n",
    "predictor=estimator.deploy() # TODO: Add your deployment configuration like instance type and number of instances"
   ]
  },
  {
   "cell_type": "code",
   "execution_count": null,
   "metadata": {},
   "outputs": [],
   "source": [
    "# TODO: Run an prediction on the endpoint\n",
    "\n",
    "image = # TODO: Your code to load and preprocess image to send to endpoint for prediction\n",
    "response = predictor.predict(image)"
   ]
  },
  {
   "cell_type": "code",
   "execution_count": null,
   "metadata": {},
   "outputs": [],
   "source": [
    "# TODO: Remember to shutdown/delete your endpoint once your work is done\n",
    "predictor.delete_endpoint()"
   ]
  },
  {
   "cell_type": "code",
   "execution_count": null,
   "metadata": {},
   "outputs": [],
   "source": []
  }
 ],
 "metadata": {
  "instance_type": "ml.t3.medium",
  "kernelspec": {
   "display_name": "Python 3 (PyTorch 1.8 Python 3.6 CPU Optimized)",
   "language": "python",
   "name": "python3__SAGEMAKER_INTERNAL__arn:aws:sagemaker:us-east-1:081325390199:image/1.8.1-cpu-py36"
  },
  "language_info": {
   "codemirror_mode": {
    "name": "ipython",
    "version": 3
   },
   "file_extension": ".py",
   "mimetype": "text/x-python",
   "name": "python",
   "nbconvert_exporter": "python",
   "pygments_lexer": "ipython3",
   "version": "3.6.13"
  }
 },
 "nbformat": 4,
 "nbformat_minor": 4
}
