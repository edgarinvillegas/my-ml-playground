{
 "cells": [
  {
   "cell_type": "markdown",
   "metadata": {},
   "source": [
    "# Predicting stock prices with Autogluon project\n"
   ]
  },
  {
   "cell_type": "markdown",
   "metadata": {},
   "source": [
    "## Data exploration"
   ]
  },
  {
   "cell_type": "code",
   "execution_count": 27,
   "metadata": {},
   "outputs": [],
   "source": [
    "import pandas as pd\n",
    "from io import StringIO"
   ]
  },
  {
   "cell_type": "markdown",
   "metadata": {},
   "source": [
    "### Parameter definition"
   ]
  },
  {
   "cell_type": "markdown",
   "metadata": {},
   "source": [
    "Let's use Apple (AAPL) as an example, with a lookback period of 3 years"
   ]
  },
  {
   "cell_type": "code",
   "execution_count": 55,
   "metadata": {},
   "outputs": [],
   "source": [
    "# Parameters\n",
    "ticker = 'AAPL'\n",
    "lookback_months = 36"
   ]
  },
  {
   "cell_type": "markdown",
   "metadata": {},
   "source": [
    "### Data Gathering"
   ]
  },
  {
   "cell_type": "markdown",
   "metadata": {},
   "source": [
    "We'll get the data from `query1.finance.yahoo.com` providing above params, via a regular http request  \n",
    "\n",
    "Sample data url: https://query1.finance.yahoo.com/v7/finance/download/AAPL?period1=1550793600&period2=1645488000&interval=1d&events=history&includeAdjustedClose=true"
   ]
  },
  {
   "cell_type": "code",
   "execution_count": 78,
   "metadata": {},
   "outputs": [],
   "source": [
    "import time\n",
    "import datetime\n",
    "from dateutil.relativedelta import relativedelta\n",
    "import pandas as pd\n",
    "import os\n",
    "import boto3\n",
    "\n",
    "\n",
    "def get_data_df(ticker, period1, period2, suffix=''):\n",
    "    int_period1 = int(time.mktime(period1.timetuple()))\n",
    "    int_period2 = int(time.mktime(period2.timetuple()))\n",
    "    interval = '1d' # 1d, 1m    \n",
    "    url = f'https://query1.finance.yahoo.com/v7/finance/download/{ticker}?period1={int_period1}&period2={int_period2}&interval={interval}&events=history&includeAdjustedClose=true'\n",
    "    print(url)\n",
    "    df = pd.read_csv(url)\n",
    "    df = df.rename(columns={'Adj Close': 'Adj_Close'})\n",
    "    return df\n"
   ]
  },
  {
   "cell_type": "code",
   "execution_count": 79,
   "metadata": {},
   "outputs": [
    {
     "name": "stdout",
     "output_type": "stream",
     "text": [
      "https://query1.finance.yahoo.com/v7/finance/download/AAPL?period1=1550793600&period2=1645488000&interval=1d&events=history&includeAdjustedClose=true\n"
     ]
    },
    {
     "data": {
      "text/html": [
       "<div>\n",
       "<style scoped>\n",
       "    .dataframe tbody tr th:only-of-type {\n",
       "        vertical-align: middle;\n",
       "    }\n",
       "\n",
       "    .dataframe tbody tr th {\n",
       "        vertical-align: top;\n",
       "    }\n",
       "\n",
       "    .dataframe thead th {\n",
       "        text-align: right;\n",
       "    }\n",
       "</style>\n",
       "<table border=\"1\" class=\"dataframe\">\n",
       "  <thead>\n",
       "    <tr style=\"text-align: right;\">\n",
       "      <th></th>\n",
       "      <th>Date</th>\n",
       "      <th>Open</th>\n",
       "      <th>High</th>\n",
       "      <th>Low</th>\n",
       "      <th>Close</th>\n",
       "      <th>Adj_Close</th>\n",
       "      <th>Volume</th>\n",
       "    </tr>\n",
       "  </thead>\n",
       "  <tbody>\n",
       "    <tr>\n",
       "      <th>0</th>\n",
       "      <td>2019-02-22</td>\n",
       "      <td>42.895000</td>\n",
       "      <td>43.250000</td>\n",
       "      <td>42.845001</td>\n",
       "      <td>43.242500</td>\n",
       "      <td>42.105236</td>\n",
       "      <td>75652800</td>\n",
       "    </tr>\n",
       "    <tr>\n",
       "      <th>1</th>\n",
       "      <td>2019-02-25</td>\n",
       "      <td>43.540001</td>\n",
       "      <td>43.967499</td>\n",
       "      <td>43.487499</td>\n",
       "      <td>43.557499</td>\n",
       "      <td>42.411949</td>\n",
       "      <td>87493600</td>\n",
       "    </tr>\n",
       "    <tr>\n",
       "      <th>2</th>\n",
       "      <td>2019-02-26</td>\n",
       "      <td>43.427502</td>\n",
       "      <td>43.825001</td>\n",
       "      <td>43.292500</td>\n",
       "      <td>43.582500</td>\n",
       "      <td>42.436302</td>\n",
       "      <td>68280800</td>\n",
       "    </tr>\n",
       "    <tr>\n",
       "      <th>3</th>\n",
       "      <td>2019-02-27</td>\n",
       "      <td>43.302502</td>\n",
       "      <td>43.750000</td>\n",
       "      <td>43.182499</td>\n",
       "      <td>43.717499</td>\n",
       "      <td>42.567745</td>\n",
       "      <td>111341600</td>\n",
       "    </tr>\n",
       "    <tr>\n",
       "      <th>4</th>\n",
       "      <td>2019-02-28</td>\n",
       "      <td>43.580002</td>\n",
       "      <td>43.727501</td>\n",
       "      <td>43.230000</td>\n",
       "      <td>43.287498</td>\n",
       "      <td>42.149048</td>\n",
       "      <td>112861600</td>\n",
       "    </tr>\n",
       "    <tr>\n",
       "      <th>...</th>\n",
       "      <td>...</td>\n",
       "      <td>...</td>\n",
       "      <td>...</td>\n",
       "      <td>...</td>\n",
       "      <td>...</td>\n",
       "      <td>...</td>\n",
       "      <td>...</td>\n",
       "    </tr>\n",
       "    <tr>\n",
       "      <th>751</th>\n",
       "      <td>2022-02-14</td>\n",
       "      <td>167.369995</td>\n",
       "      <td>169.580002</td>\n",
       "      <td>166.559998</td>\n",
       "      <td>168.880005</td>\n",
       "      <td>168.880005</td>\n",
       "      <td>86185500</td>\n",
       "    </tr>\n",
       "    <tr>\n",
       "      <th>752</th>\n",
       "      <td>2022-02-15</td>\n",
       "      <td>170.970001</td>\n",
       "      <td>172.949997</td>\n",
       "      <td>170.250000</td>\n",
       "      <td>172.789993</td>\n",
       "      <td>172.789993</td>\n",
       "      <td>64286300</td>\n",
       "    </tr>\n",
       "    <tr>\n",
       "      <th>753</th>\n",
       "      <td>2022-02-16</td>\n",
       "      <td>171.850006</td>\n",
       "      <td>173.339996</td>\n",
       "      <td>170.050003</td>\n",
       "      <td>172.550003</td>\n",
       "      <td>172.550003</td>\n",
       "      <td>61177400</td>\n",
       "    </tr>\n",
       "    <tr>\n",
       "      <th>754</th>\n",
       "      <td>2022-02-17</td>\n",
       "      <td>171.029999</td>\n",
       "      <td>171.910004</td>\n",
       "      <td>168.470001</td>\n",
       "      <td>168.880005</td>\n",
       "      <td>168.880005</td>\n",
       "      <td>69589300</td>\n",
       "    </tr>\n",
       "    <tr>\n",
       "      <th>755</th>\n",
       "      <td>2022-02-18</td>\n",
       "      <td>169.820007</td>\n",
       "      <td>170.539993</td>\n",
       "      <td>166.190002</td>\n",
       "      <td>167.300003</td>\n",
       "      <td>167.300003</td>\n",
       "      <td>82614200</td>\n",
       "    </tr>\n",
       "  </tbody>\n",
       "</table>\n",
       "<p>756 rows × 7 columns</p>\n",
       "</div>"
      ],
      "text/plain": [
       "           Date        Open        High         Low       Close   Adj_Close  \\\n",
       "0    2019-02-22   42.895000   43.250000   42.845001   43.242500   42.105236   \n",
       "1    2019-02-25   43.540001   43.967499   43.487499   43.557499   42.411949   \n",
       "2    2019-02-26   43.427502   43.825001   43.292500   43.582500   42.436302   \n",
       "3    2019-02-27   43.302502   43.750000   43.182499   43.717499   42.567745   \n",
       "4    2019-02-28   43.580002   43.727501   43.230000   43.287498   42.149048   \n",
       "..          ...         ...         ...         ...         ...         ...   \n",
       "751  2022-02-14  167.369995  169.580002  166.559998  168.880005  168.880005   \n",
       "752  2022-02-15  170.970001  172.949997  170.250000  172.789993  172.789993   \n",
       "753  2022-02-16  171.850006  173.339996  170.050003  172.550003  172.550003   \n",
       "754  2022-02-17  171.029999  171.910004  168.470001  168.880005  168.880005   \n",
       "755  2022-02-18  169.820007  170.539993  166.190002  167.300003  167.300003   \n",
       "\n",
       "        Volume  \n",
       "0     75652800  \n",
       "1     87493600  \n",
       "2     68280800  \n",
       "3    111341600  \n",
       "4    112861600  \n",
       "..         ...  \n",
       "751   86185500  \n",
       "752   64286300  \n",
       "753   61177400  \n",
       "754   69589300  \n",
       "755   82614200  \n",
       "\n",
       "[756 rows x 7 columns]"
      ]
     },
     "execution_count": 79,
     "metadata": {},
     "output_type": "execute_result"
    }
   ],
   "source": [
    "period2 = datetime.date.today()\n",
    "period1 = period2 - relativedelta(months=lookback_months)\n",
    "\n",
    "df = get_data_df(ticker, period1, period2)\n",
    "df"
   ]
  },
  {
   "cell_type": "markdown",
   "metadata": {},
   "source": [
    "### Exploration"
   ]
  },
  {
   "cell_type": "code",
   "execution_count": 80,
   "metadata": {},
   "outputs": [
    {
     "data": {
      "text/html": [
       "<div>\n",
       "<style scoped>\n",
       "    .dataframe tbody tr th:only-of-type {\n",
       "        vertical-align: middle;\n",
       "    }\n",
       "\n",
       "    .dataframe tbody tr th {\n",
       "        vertical-align: top;\n",
       "    }\n",
       "\n",
       "    .dataframe thead th {\n",
       "        text-align: right;\n",
       "    }\n",
       "</style>\n",
       "<table border=\"1\" class=\"dataframe\">\n",
       "  <thead>\n",
       "    <tr style=\"text-align: right;\">\n",
       "      <th></th>\n",
       "      <th>Date</th>\n",
       "      <th>Open</th>\n",
       "      <th>High</th>\n",
       "      <th>Low</th>\n",
       "      <th>Close</th>\n",
       "      <th>Adj_Close</th>\n",
       "      <th>Volume</th>\n",
       "    </tr>\n",
       "  </thead>\n",
       "  <tbody>\n",
       "    <tr>\n",
       "      <th>0</th>\n",
       "      <td>2019-02-22</td>\n",
       "      <td>42.895000</td>\n",
       "      <td>43.250000</td>\n",
       "      <td>42.845001</td>\n",
       "      <td>43.242500</td>\n",
       "      <td>42.105236</td>\n",
       "      <td>75652800</td>\n",
       "    </tr>\n",
       "    <tr>\n",
       "      <th>1</th>\n",
       "      <td>2019-02-25</td>\n",
       "      <td>43.540001</td>\n",
       "      <td>43.967499</td>\n",
       "      <td>43.487499</td>\n",
       "      <td>43.557499</td>\n",
       "      <td>42.411949</td>\n",
       "      <td>87493600</td>\n",
       "    </tr>\n",
       "    <tr>\n",
       "      <th>2</th>\n",
       "      <td>2019-02-26</td>\n",
       "      <td>43.427502</td>\n",
       "      <td>43.825001</td>\n",
       "      <td>43.292500</td>\n",
       "      <td>43.582500</td>\n",
       "      <td>42.436302</td>\n",
       "      <td>68280800</td>\n",
       "    </tr>\n",
       "    <tr>\n",
       "      <th>3</th>\n",
       "      <td>2019-02-27</td>\n",
       "      <td>43.302502</td>\n",
       "      <td>43.750000</td>\n",
       "      <td>43.182499</td>\n",
       "      <td>43.717499</td>\n",
       "      <td>42.567745</td>\n",
       "      <td>111341600</td>\n",
       "    </tr>\n",
       "    <tr>\n",
       "      <th>4</th>\n",
       "      <td>2019-02-28</td>\n",
       "      <td>43.580002</td>\n",
       "      <td>43.727501</td>\n",
       "      <td>43.230000</td>\n",
       "      <td>43.287498</td>\n",
       "      <td>42.149048</td>\n",
       "      <td>112861600</td>\n",
       "    </tr>\n",
       "  </tbody>\n",
       "</table>\n",
       "</div>"
      ],
      "text/plain": [
       "         Date       Open       High        Low      Close  Adj_Close  \\\n",
       "0  2019-02-22  42.895000  43.250000  42.845001  43.242500  42.105236   \n",
       "1  2019-02-25  43.540001  43.967499  43.487499  43.557499  42.411949   \n",
       "2  2019-02-26  43.427502  43.825001  43.292500  43.582500  42.436302   \n",
       "3  2019-02-27  43.302502  43.750000  43.182499  43.717499  42.567745   \n",
       "4  2019-02-28  43.580002  43.727501  43.230000  43.287498  42.149048   \n",
       "\n",
       "      Volume  \n",
       "0   75652800  \n",
       "1   87493600  \n",
       "2   68280800  \n",
       "3  111341600  \n",
       "4  112861600  "
      ]
     },
     "execution_count": 80,
     "metadata": {},
     "output_type": "execute_result"
    }
   ],
   "source": [
    "df.head()"
   ]
  },
  {
   "cell_type": "markdown",
   "metadata": {},
   "source": [
    "Let's plot the evolution of the Adjusted Close price through time"
   ]
  },
  {
   "cell_type": "code",
   "execution_count": 72,
   "metadata": {},
   "outputs": [
    {
     "data": {
      "text/plain": [
       "<matplotlib.axes._subplots.AxesSubplot at 0x7f38619207d0>"
      ]
     },
     "execution_count": 72,
     "metadata": {},
     "output_type": "execute_result"
    },
    {
     "data": {
      "image/png": "[encoded data removed]",
      "text/plain": [
       "<Figure size 720x360 with 1 Axes>"
      ]
     },
     "metadata": {
      "needs_background": "light"
     },
     "output_type": "display_data"
    }
   ],
   "source": [
    "df.plot(x='Date', y='Adj_Close', figsize=(10,5))"
   ]
  },
  {
   "cell_type": "markdown",
   "metadata": {},
   "source": [
    "For this stock, we can observe an ascending behavior in general. Prices between 40 and 140 aprox"
   ]
  },
  {
   "cell_type": "markdown",
   "metadata": {},
   "source": [
    "Let's check the data distribution"
   ]
  },
  {
   "cell_type": "code",
   "execution_count": 73,
   "metadata": {},
   "outputs": [
    {
     "data": {
      "text/html": [
       "<div>\n",
       "<style scoped>\n",
       "    .dataframe tbody tr th:only-of-type {\n",
       "        vertical-align: middle;\n",
       "    }\n",
       "\n",
       "    .dataframe tbody tr th {\n",
       "        vertical-align: top;\n",
       "    }\n",
       "\n",
       "    .dataframe thead th {\n",
       "        text-align: right;\n",
       "    }\n",
       "</style>\n",
       "<table border=\"1\" class=\"dataframe\">\n",
       "  <thead>\n",
       "    <tr style=\"text-align: right;\">\n",
       "      <th></th>\n",
       "      <th>Open</th>\n",
       "      <th>High</th>\n",
       "      <th>Low</th>\n",
       "      <th>Close</th>\n",
       "      <th>Adj_Close</th>\n",
       "      <th>Volume</th>\n",
       "    </tr>\n",
       "  </thead>\n",
       "  <tbody>\n",
       "    <tr>\n",
       "      <th>count</th>\n",
       "      <td>628.000000</td>\n",
       "      <td>628.000000</td>\n",
       "      <td>628.000000</td>\n",
       "      <td>628.000000</td>\n",
       "      <td>628.000000</td>\n",
       "      <td>6.280000e+02</td>\n",
       "    </tr>\n",
       "    <tr>\n",
       "      <th>mean</th>\n",
       "      <td>78.181644</td>\n",
       "      <td>79.155991</td>\n",
       "      <td>77.198416</td>\n",
       "      <td>78.226035</td>\n",
       "      <td>77.156960</td>\n",
       "      <td>1.349292e+08</td>\n",
       "    </tr>\n",
       "    <tr>\n",
       "      <th>std</th>\n",
       "      <td>31.799664</td>\n",
       "      <td>32.194446</td>\n",
       "      <td>31.233977</td>\n",
       "      <td>31.725079</td>\n",
       "      <td>31.829701</td>\n",
       "      <td>6.111411e+07</td>\n",
       "    </tr>\n",
       "    <tr>\n",
       "      <th>min</th>\n",
       "      <td>35.994999</td>\n",
       "      <td>36.430000</td>\n",
       "      <td>35.500000</td>\n",
       "      <td>35.547501</td>\n",
       "      <td>34.464806</td>\n",
       "      <td>4.544800e+07</td>\n",
       "    </tr>\n",
       "    <tr>\n",
       "      <th>25%</th>\n",
       "      <td>50.683750</td>\n",
       "      <td>51.097500</td>\n",
       "      <td>50.239375</td>\n",
       "      <td>50.686250</td>\n",
       "      <td>49.475485</td>\n",
       "      <td>9.249275e+07</td>\n",
       "    </tr>\n",
       "    <tr>\n",
       "      <th>50%</th>\n",
       "      <td>68.684998</td>\n",
       "      <td>69.791252</td>\n",
       "      <td>67.537498</td>\n",
       "      <td>68.772499</td>\n",
       "      <td>67.759963</td>\n",
       "      <td>1.185214e+08</td>\n",
       "    </tr>\n",
       "    <tr>\n",
       "      <th>75%</th>\n",
       "      <td>113.964998</td>\n",
       "      <td>115.460001</td>\n",
       "      <td>112.227501</td>\n",
       "      <td>113.579998</td>\n",
       "      <td>112.508511</td>\n",
       "      <td>1.615198e+08</td>\n",
       "    </tr>\n",
       "    <tr>\n",
       "      <th>max</th>\n",
       "      <td>143.600006</td>\n",
       "      <td>145.089996</td>\n",
       "      <td>141.369995</td>\n",
       "      <td>143.160004</td>\n",
       "      <td>142.101807</td>\n",
       "      <td>4.265100e+08</td>\n",
       "    </tr>\n",
       "  </tbody>\n",
       "</table>\n",
       "</div>"
      ],
      "text/plain": [
       "             Open        High         Low       Close   Adj_Close  \\\n",
       "count  628.000000  628.000000  628.000000  628.000000  628.000000   \n",
       "mean    78.181644   79.155991   77.198416   78.226035   77.156960   \n",
       "std     31.799664   32.194446   31.233977   31.725079   31.829701   \n",
       "min     35.994999   36.430000   35.500000   35.547501   34.464806   \n",
       "25%     50.683750   51.097500   50.239375   50.686250   49.475485   \n",
       "50%     68.684998   69.791252   67.537498   68.772499   67.759963   \n",
       "75%    113.964998  115.460001  112.227501  113.579998  112.508511   \n",
       "max    143.600006  145.089996  141.369995  143.160004  142.101807   \n",
       "\n",
       "             Volume  \n",
       "count  6.280000e+02  \n",
       "mean   1.349292e+08  \n",
       "std    6.111411e+07  \n",
       "min    4.544800e+07  \n",
       "25%    9.249275e+07  \n",
       "50%    1.185214e+08  \n",
       "75%    1.615198e+08  \n",
       "max    4.265100e+08  "
      ]
     },
     "execution_count": 73,
     "metadata": {},
     "output_type": "execute_result"
    }
   ],
   "source": [
    "df.describe()"
   ]
  },
  {
   "cell_type": "code",
   "execution_count": 74,
   "metadata": {},
   "outputs": [
    {
     "data": {
      "text/plain": [
       "array([[<matplotlib.axes._subplots.AxesSubplot object at 0x7f38618fcd90>,\n",
       "        <matplotlib.axes._subplots.AxesSubplot object at 0x7f38618b0150>],\n",
       "       [<matplotlib.axes._subplots.AxesSubplot object at 0x7f3861864810>,\n",
       "        <matplotlib.axes._subplots.AxesSubplot object at 0x7f3861824050>],\n",
       "       [<matplotlib.axes._subplots.AxesSubplot object at 0x7f38617da7d0>,\n",
       "        <matplotlib.axes._subplots.AxesSubplot object at 0x7f386179c190>]],\n",
       "      dtype=object)"
      ]
     },
     "execution_count": 74,
     "metadata": {},
     "output_type": "execute_result"
    },
    {
     "data": {
      "image/png": "[encoded data removed]",
      "text/plain": [
       "<Figure size 1080x720 with 6 Axes>"
      ]
     },
     "metadata": {
      "needs_background": "light"
     },
     "output_type": "display_data"
    }
   ],
   "source": [
    "df.hist(figsize=(15,10))"
   ]
  },
  {
   "cell_type": "markdown",
   "metadata": {},
   "source": [
    "We can observe that all numeric fields have a similar distribution, bimodal in this example.\n",
    "This could be very dependent on the stock\n",
    "\n",
    "Except for the volume, which follows a log normal distribution"
   ]
  },
  {
   "cell_type": "markdown",
   "metadata": {},
   "source": [
    "Let's check the Gold (GLD) stock distribution for the same period"
   ]
  },
  {
   "cell_type": "code",
   "execution_count": 75,
   "metadata": {},
   "outputs": [
    {
     "data": {
      "text/html": [
       "<div>\n",
       "<style scoped>\n",
       "    .dataframe tbody tr th:only-of-type {\n",
       "        vertical-align: middle;\n",
       "    }\n",
       "\n",
       "    .dataframe tbody tr th {\n",
       "        vertical-align: top;\n",
       "    }\n",
       "\n",
       "    .dataframe thead th {\n",
       "        text-align: right;\n",
       "    }\n",
       "</style>\n",
       "<table border=\"1\" class=\"dataframe\">\n",
       "  <thead>\n",
       "    <tr style=\"text-align: right;\">\n",
       "      <th></th>\n",
       "      <th>Open</th>\n",
       "      <th>High</th>\n",
       "      <th>Low</th>\n",
       "      <th>Close</th>\n",
       "      <th>Adj_Close</th>\n",
       "      <th>Volume</th>\n",
       "    </tr>\n",
       "  </thead>\n",
       "  <tbody>\n",
       "    <tr>\n",
       "      <th>count</th>\n",
       "      <td>756.000000</td>\n",
       "      <td>756.000000</td>\n",
       "      <td>756.000000</td>\n",
       "      <td>756.000000</td>\n",
       "      <td>756.000000</td>\n",
       "      <td>7.560000e+02</td>\n",
       "    </tr>\n",
       "    <tr>\n",
       "      <th>mean</th>\n",
       "      <td>157.695899</td>\n",
       "      <td>158.370622</td>\n",
       "      <td>156.927368</td>\n",
       "      <td>157.686666</td>\n",
       "      <td>157.686666</td>\n",
       "      <td>9.866372e+06</td>\n",
       "    </tr>\n",
       "    <tr>\n",
       "      <th>std</th>\n",
       "      <td>18.322348</td>\n",
       "      <td>18.409185</td>\n",
       "      <td>18.149848</td>\n",
       "      <td>18.293168</td>\n",
       "      <td>18.293168</td>\n",
       "      <td>5.306399e+06</td>\n",
       "    </tr>\n",
       "    <tr>\n",
       "      <th>min</th>\n",
       "      <td>119.669998</td>\n",
       "      <td>120.110001</td>\n",
       "      <td>119.540001</td>\n",
       "      <td>119.940002</td>\n",
       "      <td>119.940002</td>\n",
       "      <td>2.250900e+06</td>\n",
       "    </tr>\n",
       "    <tr>\n",
       "      <th>25%</th>\n",
       "      <td>141.765003</td>\n",
       "      <td>142.514999</td>\n",
       "      <td>141.177494</td>\n",
       "      <td>141.787494</td>\n",
       "      <td>141.787494</td>\n",
       "      <td>6.509725e+06</td>\n",
       "    </tr>\n",
       "    <tr>\n",
       "      <th>50%</th>\n",
       "      <td>164.055000</td>\n",
       "      <td>164.825005</td>\n",
       "      <td>163.480003</td>\n",
       "      <td>164.190002</td>\n",
       "      <td>164.190002</td>\n",
       "      <td>8.376150e+06</td>\n",
       "    </tr>\n",
       "    <tr>\n",
       "      <th>75%</th>\n",
       "      <td>170.627495</td>\n",
       "      <td>171.332497</td>\n",
       "      <td>170.149994</td>\n",
       "      <td>170.945003</td>\n",
       "      <td>170.945003</td>\n",
       "      <td>1.172858e+07</td>\n",
       "    </tr>\n",
       "    <tr>\n",
       "      <th>max</th>\n",
       "      <td>193.740005</td>\n",
       "      <td>194.449997</td>\n",
       "      <td>192.520004</td>\n",
       "      <td>193.889999</td>\n",
       "      <td>193.889999</td>\n",
       "      <td>4.535500e+07</td>\n",
       "    </tr>\n",
       "  </tbody>\n",
       "</table>\n",
       "</div>"
      ],
      "text/plain": [
       "             Open        High         Low       Close   Adj_Close  \\\n",
       "count  756.000000  756.000000  756.000000  756.000000  756.000000   \n",
       "mean   157.695899  158.370622  156.927368  157.686666  157.686666   \n",
       "std     18.322348   18.409185   18.149848   18.293168   18.293168   \n",
       "min    119.669998  120.110001  119.540001  119.940002  119.940002   \n",
       "25%    141.765003  142.514999  141.177494  141.787494  141.787494   \n",
       "50%    164.055000  164.825005  163.480003  164.190002  164.190002   \n",
       "75%    170.627495  171.332497  170.149994  170.945003  170.945003   \n",
       "max    193.740005  194.449997  192.520004  193.889999  193.889999   \n",
       "\n",
       "             Volume  \n",
       "count  7.560000e+02  \n",
       "mean   9.866372e+06  \n",
       "std    5.306399e+06  \n",
       "min    2.250900e+06  \n",
       "25%    6.509725e+06  \n",
       "50%    8.376150e+06  \n",
       "75%    1.172858e+07  \n",
       "max    4.535500e+07  "
      ]
     },
     "execution_count": 75,
     "metadata": {},
     "output_type": "execute_result"
    }
   ],
   "source": [
    "df_gld = get_data_df('GLD', period1, period2)\n",
    "df_gld.describe()"
   ]
  },
  {
   "cell_type": "code",
   "execution_count": 76,
   "metadata": {},
   "outputs": [
    {
     "data": {
      "text/plain": [
       "<matplotlib.axes._subplots.AxesSubplot at 0x7f3861557e10>"
      ]
     },
     "execution_count": 76,
     "metadata": {},
     "output_type": "execute_result"
    },
    {
     "data": {
      "image/png": "[encoded data removed]",
      "text/plain": [
       "<Figure size 720x360 with 1 Axes>"
      ]
     },
     "metadata": {
      "needs_background": "light"
     },
     "output_type": "display_data"
    }
   ],
   "source": [
    "df_gld.plot(x='Date', y='Adj_Close', figsize=(10,5))"
   ]
  },
  {
   "cell_type": "markdown",
   "metadata": {},
   "source": [
    "Gold also has an ascending behavior in general"
   ]
  },
  {
   "cell_type": "code",
   "execution_count": 77,
   "metadata": {},
   "outputs": [
    {
     "data": {
      "text/plain": [
       "array([[<matplotlib.axes._subplots.AxesSubplot object at 0x7f3861537f90>,\n",
       "        <matplotlib.axes._subplots.AxesSubplot object at 0x7f38614e1810>],\n",
       "       [<matplotlib.axes._subplots.AxesSubplot object at 0x7f38614a0050>,\n",
       "        <matplotlib.axes._subplots.AxesSubplot object at 0x7f38614557d0>],\n",
       "       [<matplotlib.axes._subplots.AxesSubplot object at 0x7f3861417190>,\n",
       "        <matplotlib.axes._subplots.AxesSubplot object at 0x7f38613cb810>]],\n",
       "      dtype=object)"
      ]
     },
     "execution_count": 77,
     "metadata": {},
     "output_type": "execute_result"
    },
    {
     "data": {
      "image/png": "[encoded data removed]",
      "text/plain": [
       "<Figure size 1080x720 with 6 Axes>"
      ]
     },
     "metadata": {
      "needs_background": "light"
     },
     "output_type": "display_data"
    }
   ],
   "source": [
    "df_gld.hist(figsize=(15,10))"
   ]
  },
  {
   "cell_type": "markdown",
   "metadata": {},
   "source": [
    "We can observe that the prices distribution is very different. However, the volume is also log normal\n",
    "We don't notice the presence of outliers or atypical data."
   ]
  },
  {
   "cell_type": "markdown",
   "metadata": {},
   "source": [
    "### Data cleaning"
   ]
  },
  {
   "cell_type": "markdown",
   "metadata": {},
   "source": [
    "The data comes clean from source (Yahoo Finance) so it does not need cleaning. Also, given it provides an Adjusted Close field, we don't need to do further calculations"
   ]
  },
  {
   "cell_type": "code",
   "execution_count": null,
   "metadata": {},
   "outputs": [],
   "source": []
  }
 ],
 "metadata": {
  "instance_type": "ml.t3.medium",
  "kernelspec": {
   "display_name": "Python 3 (Data Science)",
   "language": "python",
   "name": "python3__SAGEMAKER_INTERNAL__arn:aws:sagemaker:us-west-2:236514542706:image/datascience-1.0"
  },
  "language_info": {
   "codemirror_mode": {
    "name": "ipython",
    "version": 3
   },
   "file_extension": ".py",
   "mimetype": "text/x-python",
   "name": "python",
   "nbconvert_exporter": "python",
   "pygments_lexer": "ipython3",
   "version": "3.7.10"
  }
 },
 "nbformat": 4,
 "nbformat_minor": 4
}
