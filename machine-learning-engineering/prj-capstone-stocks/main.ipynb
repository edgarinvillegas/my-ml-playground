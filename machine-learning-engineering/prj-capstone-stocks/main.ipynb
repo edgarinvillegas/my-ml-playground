{
 "cells": [
  {
   "cell_type": "markdown",
   "metadata": {},
   "source": [
    "# Predicting stock prices with Autogluon project\n"
   ]
  },
  {
   "cell_type": "markdown",
   "metadata": {},
   "source": [
    "## Data exploration"
   ]
  },
  {
   "cell_type": "code",
   "execution_count": 27,
   "metadata": {},
   "outputs": [],
   "source": [
    "import pandas as pd\n",
    "from io import StringIO"
   ]
  },
  {
   "cell_type": "markdown",
   "metadata": {},
   "source": [
    "### Parameter definition"
   ]
  },
  {
   "cell_type": "markdown",
   "metadata": {},
   "source": [
    "Let's use Apple (AAPL) as an example, with a lookback period of 30 months and a forecast one of 10 months"
   ]
  },
  {
   "cell_type": "code",
   "execution_count": 55,
   "metadata": {},
   "outputs": [],
   "source": [
    "# Parameters\n",
    "ticker = 'AAPL'\n",
    "forecast_months = 12\n",
    "lookback_months = 36"
   ]
  },
  {
   "cell_type": "markdown",
   "metadata": {},
   "source": [
    "### Data Gathering"
   ]
  },
  {
   "cell_type": "markdown",
   "metadata": {},
   "source": [
    "We'll get the data from `query1.finance.yahoo.com` providing above params, via a regular http request  \n",
    "\n",
    "Sample data url: https://query1.finance.yahoo.com/v7/finance/download/AAPL?period1=1550793600&period2=1645488000&interval=1d&events=history&includeAdjustedClose=true"
   ]
  },
  {
   "cell_type": "code",
   "execution_count": 68,
   "metadata": {},
   "outputs": [],
   "source": [
    "import time\n",
    "import datetime\n",
    "from dateutil.relativedelta import relativedelta\n",
    "import pandas as pd\n",
    "import os\n",
    "import boto3\n",
    "\n",
    "\n",
    "def get_data_df(ticker, period1, period2, suffix=''):\n",
    "    int_period1 = int(time.mktime(period1.timetuple()))\n",
    "    int_period2 = int(time.mktime(period2.timetuple()))\n",
    "    interval = '1d' # 1d, 1m    \n",
    "    url = f'https://query1.finance.yahoo.com/v7/finance/download/{ticker}?period1={int_period1}&period2={int_period2}&interval={interval}&events=history&includeAdjustedClose=true'\n",
    "    print(url)\n",
    "    df = pd.read_csv(url)\n",
    "    df = df.rename(columns={'Adj Close': 'Adj_Close'})\n",
    "    return df\n",
    "\n"
   ]
  },
  {
   "cell_type": "code",
   "execution_count": null,
   "metadata": {},
   "outputs": [],
   "source": [
    "period2 = datetime.date.today()\n",
    "period1 = period2 - relativedelta(months=lookback_months)\n",
    "\n",
    "df = get_data_df(ticker, period1, period2)\n",
    "df"
   ]
  },
  {
   "cell_type": "markdown",
   "metadata": {},
   "source": [
    "### Exploration"
   ]
  },
  {
   "cell_type": "markdown",
   "metadata": {},
   "source": [
    "We're going to use the train split for data exploration"
   ]
  },
  {
   "cell_type": "code",
   "execution_count": 57,
   "metadata": {},
   "outputs": [
    {
     "data": {
      "text/html": [
       "<div>\n",
       "<style scoped>\n",
       "    .dataframe tbody tr th:only-of-type {\n",
       "        vertical-align: middle;\n",
       "    }\n",
       "\n",
       "    .dataframe tbody tr th {\n",
       "        vertical-align: top;\n",
       "    }\n",
       "\n",
       "    .dataframe thead th {\n",
       "        text-align: right;\n",
       "    }\n",
       "</style>\n",
       "<table border=\"1\" class=\"dataframe\">\n",
       "  <thead>\n",
       "    <tr style=\"text-align: right;\">\n",
       "      <th></th>\n",
       "      <th>Date</th>\n",
       "      <th>Open</th>\n",
       "      <th>High</th>\n",
       "      <th>Low</th>\n",
       "      <th>Close</th>\n",
       "      <th>Adj_Close</th>\n",
       "      <th>Volume</th>\n",
       "    </tr>\n",
       "  </thead>\n",
       "  <tbody>\n",
       "    <tr>\n",
       "      <th>0</th>\n",
       "      <td>2018-10-22</td>\n",
       "      <td>54.947498</td>\n",
       "      <td>55.840000</td>\n",
       "      <td>54.735001</td>\n",
       "      <td>55.162498</td>\n",
       "      <td>53.296410</td>\n",
       "      <td>115168400</td>\n",
       "    </tr>\n",
       "    <tr>\n",
       "      <th>1</th>\n",
       "      <td>2018-10-23</td>\n",
       "      <td>53.957500</td>\n",
       "      <td>55.812500</td>\n",
       "      <td>53.674999</td>\n",
       "      <td>55.682499</td>\n",
       "      <td>53.798820</td>\n",
       "      <td>155071200</td>\n",
       "    </tr>\n",
       "    <tr>\n",
       "      <th>2</th>\n",
       "      <td>2018-10-24</td>\n",
       "      <td>55.650002</td>\n",
       "      <td>56.057499</td>\n",
       "      <td>53.634998</td>\n",
       "      <td>53.772499</td>\n",
       "      <td>51.953426</td>\n",
       "      <td>163702000</td>\n",
       "    </tr>\n",
       "    <tr>\n",
       "      <th>3</th>\n",
       "      <td>2018-10-25</td>\n",
       "      <td>54.427502</td>\n",
       "      <td>55.345001</td>\n",
       "      <td>54.187500</td>\n",
       "      <td>54.950001</td>\n",
       "      <td>53.091095</td>\n",
       "      <td>119423200</td>\n",
       "    </tr>\n",
       "    <tr>\n",
       "      <th>4</th>\n",
       "      <td>2018-10-26</td>\n",
       "      <td>53.974998</td>\n",
       "      <td>55.047501</td>\n",
       "      <td>53.167500</td>\n",
       "      <td>54.075001</td>\n",
       "      <td>52.245701</td>\n",
       "      <td>189033600</td>\n",
       "    </tr>\n",
       "  </tbody>\n",
       "</table>\n",
       "</div>"
      ],
      "text/plain": [
       "         Date       Open       High        Low      Close  Adj_Close  \\\n",
       "0  2018-10-22  54.947498  55.840000  54.735001  55.162498  53.296410   \n",
       "1  2018-10-23  53.957500  55.812500  53.674999  55.682499  53.798820   \n",
       "2  2018-10-24  55.650002  56.057499  53.634998  53.772499  51.953426   \n",
       "3  2018-10-25  54.427502  55.345001  54.187500  54.950001  53.091095   \n",
       "4  2018-10-26  53.974998  55.047501  53.167500  54.075001  52.245701   \n",
       "\n",
       "      Volume  \n",
       "0  115168400  \n",
       "1  155071200  \n",
       "2  163702000  \n",
       "3  119423200  \n",
       "4  189033600  "
      ]
     },
     "execution_count": 57,
     "metadata": {},
     "output_type": "execute_result"
    }
   ],
   "source": [
    "df = df_train\n",
    "df.head()"
   ]
  },
  {
   "cell_type": "markdown",
   "metadata": {},
   "source": [
    "Let's plot the evolution of the Adjusted Close price through time"
   ]
  },
  {
   "cell_type": "code",
   "execution_count": 58,
   "metadata": {},
   "outputs": [
    {
     "data": {
      "text/plain": [
       "<matplotlib.axes._subplots.AxesSubplot at 0x7f3861d4b450>"
      ]
     },
     "execution_count": 58,
     "metadata": {},
     "output_type": "execute_result"
    },
    {
     "data": {
      "image/png": "[encoded data removed]",
      "text/plain": [
       "<Figure size 720x360 with 1 Axes>"
      ]
     },
     "metadata": {
      "needs_background": "light"
     },
     "output_type": "display_data"
    }
   ],
   "source": [
    "df.plot(x='Date', y='Adj_Close', figsize=(10,5))"
   ]
  },
  {
   "cell_type": "markdown",
   "metadata": {},
   "source": [
    "For this stock, we can observe an ascending behavior in general. Prices between 40 and 140 aprox"
   ]
  },
  {
   "cell_type": "markdown",
   "metadata": {},
   "source": [
    "Let's check the data distribution"
   ]
  },
  {
   "cell_type": "code",
   "execution_count": 34,
   "metadata": {},
   "outputs": [
    {
     "data": {
      "text/html": [
       "<div>\n",
       "<style scoped>\n",
       "    .dataframe tbody tr th:only-of-type {\n",
       "        vertical-align: middle;\n",
       "    }\n",
       "\n",
       "    .dataframe tbody tr th {\n",
       "        vertical-align: top;\n",
       "    }\n",
       "\n",
       "    .dataframe thead th {\n",
       "        text-align: right;\n",
       "    }\n",
       "</style>\n",
       "<table border=\"1\" class=\"dataframe\">\n",
       "  <thead>\n",
       "    <tr style=\"text-align: right;\">\n",
       "      <th></th>\n",
       "      <th>Open</th>\n",
       "      <th>High</th>\n",
       "      <th>Low</th>\n",
       "      <th>Close</th>\n",
       "      <th>Adj_Close</th>\n",
       "      <th>Volume</th>\n",
       "    </tr>\n",
       "  </thead>\n",
       "  <tbody>\n",
       "    <tr>\n",
       "      <th>count</th>\n",
       "      <td>628.000000</td>\n",
       "      <td>628.000000</td>\n",
       "      <td>628.000000</td>\n",
       "      <td>628.000000</td>\n",
       "      <td>628.000000</td>\n",
       "      <td>6.280000e+02</td>\n",
       "    </tr>\n",
       "    <tr>\n",
       "      <th>mean</th>\n",
       "      <td>78.181644</td>\n",
       "      <td>79.155991</td>\n",
       "      <td>77.198416</td>\n",
       "      <td>78.226035</td>\n",
       "      <td>77.156960</td>\n",
       "      <td>1.349292e+08</td>\n",
       "    </tr>\n",
       "    <tr>\n",
       "      <th>std</th>\n",
       "      <td>31.799664</td>\n",
       "      <td>32.194446</td>\n",
       "      <td>31.233977</td>\n",
       "      <td>31.725079</td>\n",
       "      <td>31.829700</td>\n",
       "      <td>6.111411e+07</td>\n",
       "    </tr>\n",
       "    <tr>\n",
       "      <th>min</th>\n",
       "      <td>35.994999</td>\n",
       "      <td>36.430000</td>\n",
       "      <td>35.500000</td>\n",
       "      <td>35.547501</td>\n",
       "      <td>34.464798</td>\n",
       "      <td>4.544800e+07</td>\n",
       "    </tr>\n",
       "    <tr>\n",
       "      <th>25%</th>\n",
       "      <td>50.683750</td>\n",
       "      <td>51.097500</td>\n",
       "      <td>50.239375</td>\n",
       "      <td>50.686250</td>\n",
       "      <td>49.475480</td>\n",
       "      <td>9.249275e+07</td>\n",
       "    </tr>\n",
       "    <tr>\n",
       "      <th>50%</th>\n",
       "      <td>68.684998</td>\n",
       "      <td>69.791252</td>\n",
       "      <td>67.537498</td>\n",
       "      <td>68.772499</td>\n",
       "      <td>67.759960</td>\n",
       "      <td>1.185214e+08</td>\n",
       "    </tr>\n",
       "    <tr>\n",
       "      <th>75%</th>\n",
       "      <td>113.964998</td>\n",
       "      <td>115.460001</td>\n",
       "      <td>112.227501</td>\n",
       "      <td>113.579998</td>\n",
       "      <td>112.508507</td>\n",
       "      <td>1.615198e+08</td>\n",
       "    </tr>\n",
       "    <tr>\n",
       "      <th>max</th>\n",
       "      <td>143.600006</td>\n",
       "      <td>145.089996</td>\n",
       "      <td>141.369995</td>\n",
       "      <td>143.160004</td>\n",
       "      <td>142.101822</td>\n",
       "      <td>4.265100e+08</td>\n",
       "    </tr>\n",
       "  </tbody>\n",
       "</table>\n",
       "</div>"
      ],
      "text/plain": [
       "             Open        High         Low       Close   Adj_Close  \\\n",
       "count  628.000000  628.000000  628.000000  628.000000  628.000000   \n",
       "mean    78.181644   79.155991   77.198416   78.226035   77.156960   \n",
       "std     31.799664   32.194446   31.233977   31.725079   31.829700   \n",
       "min     35.994999   36.430000   35.500000   35.547501   34.464798   \n",
       "25%     50.683750   51.097500   50.239375   50.686250   49.475480   \n",
       "50%     68.684998   69.791252   67.537498   68.772499   67.759960   \n",
       "75%    113.964998  115.460001  112.227501  113.579998  112.508507   \n",
       "max    143.600006  145.089996  141.369995  143.160004  142.101822   \n",
       "\n",
       "             Volume  \n",
       "count  6.280000e+02  \n",
       "mean   1.349292e+08  \n",
       "std    6.111411e+07  \n",
       "min    4.544800e+07  \n",
       "25%    9.249275e+07  \n",
       "50%    1.185214e+08  \n",
       "75%    1.615198e+08  \n",
       "max    4.265100e+08  "
      ]
     },
     "execution_count": 34,
     "metadata": {},
     "output_type": "execute_result"
    }
   ],
   "source": [
    "df.describe()"
   ]
  },
  {
   "cell_type": "code",
   "execution_count": 39,
   "metadata": {},
   "outputs": [
    {
     "data": {
      "text/plain": [
       "array([[<matplotlib.axes._subplots.AxesSubplot object at 0x7f38638a7bd0>,\n",
       "        <matplotlib.axes._subplots.AxesSubplot object at 0x7f3863aef5d0>],\n",
       "       [<matplotlib.axes._subplots.AxesSubplot object at 0x7f3863abed90>,\n",
       "        <matplotlib.axes._subplots.AxesSubplot object at 0x7f38638cc550>],\n",
       "       [<matplotlib.axes._subplots.AxesSubplot object at 0x7f38638cdd50>,\n",
       "        <matplotlib.axes._subplots.AxesSubplot object at 0x7f3863566590>]],\n",
       "      dtype=object)"
      ]
     },
     "execution_count": 39,
     "metadata": {},
     "output_type": "execute_result"
    },
    {
     "data": {
      "image/png": "[encoded data removed]",
      "text/plain": [
       "<Figure size 1080x720 with 6 Axes>"
      ]
     },
     "metadata": {
      "needs_background": "light"
     },
     "output_type": "display_data"
    }
   ],
   "source": [
    "df.hist(figsize=(15,10))"
   ]
  },
  {
   "cell_type": "markdown",
   "metadata": {},
   "source": [
    "We can observe that all numeric fields have a similar distribution, bimodal in this example.\n",
    "This could be very dependent on the stock\n",
    "\n",
    "Except for the volume, which follows a log normal distribution"
   ]
  },
  {
   "cell_type": "markdown",
   "metadata": {},
   "source": [
    "Let's check the Gold (GLD) stock distribution for the same period"
   ]
  },
  {
   "cell_type": "code",
   "execution_count": 60,
   "metadata": {},
   "outputs": [
    {
     "data": {
      "text/html": [
       "<div>\n",
       "<style scoped>\n",
       "    .dataframe tbody tr th:only-of-type {\n",
       "        vertical-align: middle;\n",
       "    }\n",
       "\n",
       "    .dataframe tbody tr th {\n",
       "        vertical-align: top;\n",
       "    }\n",
       "\n",
       "    .dataframe thead th {\n",
       "        text-align: right;\n",
       "    }\n",
       "</style>\n",
       "<table border=\"1\" class=\"dataframe\">\n",
       "  <thead>\n",
       "    <tr style=\"text-align: right;\">\n",
       "      <th></th>\n",
       "      <th>Open</th>\n",
       "      <th>High</th>\n",
       "      <th>Low</th>\n",
       "      <th>Close</th>\n",
       "      <th>Adj_Close</th>\n",
       "      <th>Volume</th>\n",
       "    </tr>\n",
       "  </thead>\n",
       "  <tbody>\n",
       "    <tr>\n",
       "      <th>count</th>\n",
       "      <td>754.000000</td>\n",
       "      <td>754.000000</td>\n",
       "      <td>754.000000</td>\n",
       "      <td>754.000000</td>\n",
       "      <td>754.000000</td>\n",
       "      <td>7.540000e+02</td>\n",
       "    </tr>\n",
       "    <tr>\n",
       "      <th>mean</th>\n",
       "      <td>141.617745</td>\n",
       "      <td>142.184244</td>\n",
       "      <td>140.960756</td>\n",
       "      <td>141.584164</td>\n",
       "      <td>141.584164</td>\n",
       "      <td>9.537452e+06</td>\n",
       "    </tr>\n",
       "    <tr>\n",
       "      <th>std</th>\n",
       "      <td>22.895355</td>\n",
       "      <td>23.076991</td>\n",
       "      <td>22.585924</td>\n",
       "      <td>22.851123</td>\n",
       "      <td>22.851123</td>\n",
       "      <td>5.367505e+06</td>\n",
       "    </tr>\n",
       "    <tr>\n",
       "      <th>min</th>\n",
       "      <td>111.459999</td>\n",
       "      <td>111.879997</td>\n",
       "      <td>111.059998</td>\n",
       "      <td>111.099998</td>\n",
       "      <td>111.099998</td>\n",
       "      <td>2.250900e+06</td>\n",
       "    </tr>\n",
       "    <tr>\n",
       "      <th>25%</th>\n",
       "      <td>122.072502</td>\n",
       "      <td>122.365000</td>\n",
       "      <td>121.745002</td>\n",
       "      <td>121.987503</td>\n",
       "      <td>121.987503</td>\n",
       "      <td>6.083875e+06</td>\n",
       "    </tr>\n",
       "    <tr>\n",
       "      <th>50%</th>\n",
       "      <td>137.979996</td>\n",
       "      <td>138.440002</td>\n",
       "      <td>137.620002</td>\n",
       "      <td>137.974998</td>\n",
       "      <td>137.974998</td>\n",
       "      <td>8.129050e+06</td>\n",
       "    </tr>\n",
       "    <tr>\n",
       "      <th>75%</th>\n",
       "      <td>161.880005</td>\n",
       "      <td>162.575001</td>\n",
       "      <td>160.854996</td>\n",
       "      <td>162.142505</td>\n",
       "      <td>162.142505</td>\n",
       "      <td>1.170478e+07</td>\n",
       "    </tr>\n",
       "    <tr>\n",
       "      <th>max</th>\n",
       "      <td>193.740005</td>\n",
       "      <td>194.449997</td>\n",
       "      <td>192.520004</td>\n",
       "      <td>193.889999</td>\n",
       "      <td>193.889999</td>\n",
       "      <td>4.535500e+07</td>\n",
       "    </tr>\n",
       "  </tbody>\n",
       "</table>\n",
       "</div>"
      ],
      "text/plain": [
       "             Open        High         Low       Close   Adj_Close  \\\n",
       "count  754.000000  754.000000  754.000000  754.000000  754.000000   \n",
       "mean   141.617745  142.184244  140.960756  141.584164  141.584164   \n",
       "std     22.895355   23.076991   22.585924   22.851123   22.851123   \n",
       "min    111.459999  111.879997  111.059998  111.099998  111.099998   \n",
       "25%    122.072502  122.365000  121.745002  121.987503  121.987503   \n",
       "50%    137.979996  138.440002  137.620002  137.974998  137.974998   \n",
       "75%    161.880005  162.575001  160.854996  162.142505  162.142505   \n",
       "max    193.740005  194.449997  192.520004  193.889999  193.889999   \n",
       "\n",
       "             Volume  \n",
       "count  7.540000e+02  \n",
       "mean   9.537452e+06  \n",
       "std    5.367505e+06  \n",
       "min    2.250900e+06  \n",
       "25%    6.083875e+06  \n",
       "50%    8.129050e+06  \n",
       "75%    1.170478e+07  \n",
       "max    4.535500e+07  "
      ]
     },
     "execution_count": 60,
     "metadata": {},
     "output_type": "execute_result"
    }
   ],
   "source": [
    "df_gld, _ = gather_data('GLD', forecast_months, lookback_months)\n",
    "df_gld.describe()"
   ]
  },
  {
   "cell_type": "code",
   "execution_count": 61,
   "metadata": {},
   "outputs": [
    {
     "data": {
      "text/plain": [
       "<matplotlib.axes._subplots.AxesSubplot at 0x7f3861e572d0>"
      ]
     },
     "execution_count": 61,
     "metadata": {},
     "output_type": "execute_result"
    },
    {
     "data": {
      "image/png": "[encoded data removed]",
      "text/plain": [
       "<Figure size 720x360 with 1 Axes>"
      ]
     },
     "metadata": {
      "needs_background": "light"
     },
     "output_type": "display_data"
    }
   ],
   "source": [
    "df_gld.plot(x='Date', y='Adj_Close', figsize=(10,5))"
   ]
  },
  {
   "cell_type": "markdown",
   "metadata": {},
   "source": [
    "Gold also has an ascending behavior in general"
   ]
  },
  {
   "cell_type": "code",
   "execution_count": 62,
   "metadata": {},
   "outputs": [
    {
     "data": {
      "text/plain": [
       "array([[<matplotlib.axes._subplots.AxesSubplot object at 0x7f3861d9d710>,\n",
       "        <matplotlib.axes._subplots.AxesSubplot object at 0x7f3861e38710>],\n",
       "       [<matplotlib.axes._subplots.AxesSubplot object at 0x7f3861fba0d0>,\n",
       "        <matplotlib.axes._subplots.AxesSubplot object at 0x7f3861f66750>],\n",
       "       [<matplotlib.axes._subplots.AxesSubplot object at 0x7f3861f14110>,\n",
       "        <matplotlib.axes._subplots.AxesSubplot object at 0x7f3861e85710>]],\n",
       "      dtype=object)"
      ]
     },
     "execution_count": 62,
     "metadata": {},
     "output_type": "execute_result"
    },
    {
     "data": {
      "image/png": "[encoded data removed]",
      "text/plain": [
       "<Figure size 1080x720 with 6 Axes>"
      ]
     },
     "metadata": {
      "needs_background": "light"
     },
     "output_type": "display_data"
    }
   ],
   "source": [
    "df_gld.hist(figsize=(15,10))"
   ]
  },
  {
   "cell_type": "markdown",
   "metadata": {},
   "source": [
    "We can observe that the prices distribution is very different. However, the volume is also log normal\n",
    "We don't notice the presence of outliers or atypical data."
   ]
  },
  {
   "cell_type": "markdown",
   "metadata": {},
   "source": [
    "### Data cleaning"
   ]
  },
  {
   "cell_type": "markdown",
   "metadata": {},
   "source": [
    "The data comes clean from source (Yahoo Finance) so it does not need cleaning. Also, given it provides an Adjusted Close field, we don't need to do further calculations"
   ]
  },
  {
   "cell_type": "code",
   "execution_count": null,
   "metadata": {},
   "outputs": [],
   "source": []
  }
 ],
 "metadata": {
  "instance_type": "ml.t3.medium",
  "kernelspec": {
   "display_name": "Python 3 (Data Science)",
   "language": "python",
   "name": "python3__SAGEMAKER_INTERNAL__arn:aws:sagemaker:us-west-2:236514542706:image/datascience-1.0"
  },
  "language_info": {
   "codemirror_mode": {
    "name": "ipython",
    "version": 3
   },
   "file_extension": ".py",
   "mimetype": "text/x-python",
   "name": "python",
   "nbconvert_exporter": "python",
   "pygments_lexer": "ipython3",
   "version": "3.7.10"
  }
 },
 "nbformat": 4,
 "nbformat_minor": 4
}
